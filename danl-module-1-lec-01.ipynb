{
  "nbformat": 4,
  "nbformat_minor": 0,
  "metadata": {
    "colab": {
      "provenance": [],
      "authorship_tag": "ABX9TyPvkcEMaAzofDRONMpLpBrD",
      "include_colab_link": true
    },
    "kernelspec": {
      "name": "python3",
      "display_name": "Python 3"
    },
    "language_info": {
      "name": "python"
    }
  },
  "cells": [
    {
      "cell_type": "markdown",
      "metadata": {
        "id": "view-in-github",
        "colab_type": "text"
      },
      "source": [
        "<a href=\"https://colab.research.google.com/github/bcdanl/module-1-colab/blob/main/danl-module-1-lec-01.ipynb\" target=\"_parent\"><img src=\"https://colab.research.google.com/assets/colab-badge.svg\" alt=\"Open In Colab\"/></a>"
      ]
    },
    {
      "cell_type": "code",
      "execution_count": null,
      "metadata": {
        "id": "9-FLu5nXC06q"
      },
      "outputs": [],
      "source": [
        "a = 1"
      ]
    },
    {
      "cell_type": "markdown",
      "source": [
        "Below is the example to understand the concept of assignment."
      ],
      "metadata": {
        "id": "qj8MOcoXFou5"
      }
    },
    {
      "cell_type": "code",
      "source": [
        "# Here we assign the integer value 5 to the variable x.\n",
        "x = 5\n",
        "\n",
        "# Now we can use the variable x in the next line.\n",
        "y = x + 12\n",
        "y"
      ],
      "metadata": {
        "colab": {
          "base_uri": "https://localhost:8080/"
        },
        "id": "jHWVg5FDFFeh",
        "outputId": "b292fa9d-ac34-41cc-b819-3320f6c40051"
      },
      "execution_count": 1,
      "outputs": [
        {
          "output_type": "execute_result",
          "data": {
            "text/plain": [
              "17"
            ]
          },
          "metadata": {},
          "execution_count": 1
        }
      ]
    },
    {
      "cell_type": "code",
      "source": [
        "list_example = [10, 1.23, \"like this\", True, None]\n",
        "print(list_example)\n",
        "type(list_example)\n",
        "type( 10 )"
      ],
      "metadata": {
        "colab": {
          "base_uri": "https://localhost:8080/"
        },
        "id": "yVBjHRQvGXGb",
        "outputId": "ade75035-849d-4e23-ec21-b430fdba60b1"
      },
      "execution_count": 4,
      "outputs": [
        {
          "output_type": "stream",
          "name": "stdout",
          "text": [
            "[10, 1.23, 'like this', True, None]\n"
          ]
        },
        {
          "output_type": "execute_result",
          "data": {
            "text/plain": [
              "int"
            ]
          },
          "metadata": {},
          "execution_count": 4
        }
      ]
    },
    {
      "cell_type": "code",
      "source": [
        "vector = ['a', 'b']\n",
        "vector[2]"
      ],
      "metadata": {
        "colab": {
          "base_uri": "https://localhost:8080/",
          "height": 191
        },
        "id": "CkDxb90vHgc4",
        "outputId": "b6ae4d7a-e73c-436b-8cd1-e9a8a1f4bada"
      },
      "execution_count": 7,
      "outputs": [
        {
          "output_type": "error",
          "ename": "IndexError",
          "evalue": "list index out of range",
          "traceback": [
            "\u001b[0;31m---------------------------------------------------------------------------\u001b[0m",
            "\u001b[0;31mIndexError\u001b[0m                                Traceback (most recent call last)",
            "\u001b[0;32m<ipython-input-7-e2db1e75ca36>\u001b[0m in \u001b[0;36m<cell line: 2>\u001b[0;34m()\u001b[0m\n\u001b[1;32m      1\u001b[0m \u001b[0mvector\u001b[0m \u001b[0;34m=\u001b[0m \u001b[0;34m[\u001b[0m\u001b[0;34m'a'\u001b[0m\u001b[0;34m,\u001b[0m \u001b[0;34m'b'\u001b[0m\u001b[0;34m]\u001b[0m\u001b[0;34m\u001b[0m\u001b[0;34m\u001b[0m\u001b[0m\n\u001b[0;32m----> 2\u001b[0;31m \u001b[0mvector\u001b[0m\u001b[0;34m[\u001b[0m\u001b[0;36m2\u001b[0m\u001b[0;34m]\u001b[0m\u001b[0;34m\u001b[0m\u001b[0;34m\u001b[0m\u001b[0m\n\u001b[0m",
            "\u001b[0;31mIndexError\u001b[0m: list index out of range"
          ]
        }
      ]
    },
    {
      "cell_type": "code",
      "source": [
        "num_tup = (1, 2, 3)\n",
        "sum(num_tup)"
      ],
      "metadata": {
        "colab": {
          "base_uri": "https://localhost:8080/"
        },
        "id": "Y1mwOdYhIBu-",
        "outputId": "b393f4e3-9e35-4719-9757-83958c8f7343"
      },
      "execution_count": 8,
      "outputs": [
        {
          "output_type": "execute_result",
          "data": {
            "text/plain": [
              "6"
            ]
          },
          "metadata": {},
          "execution_count": 8
        }
      ]
    },
    {
      "cell_type": "code",
      "source": [
        "string_one = \"This is an example \"\n",
        "string_two = \"of string concatenation\"\n",
        "string_full = string_one + string_two\n",
        "print(string_full)"
      ],
      "metadata": {
        "colab": {
          "base_uri": "https://localhost:8080/"
        },
        "id": "0bCzueVJIY3c",
        "outputId": "92178de8-7a62-44b0-c56f-9f33ce027624"
      },
      "execution_count": 9,
      "outputs": [
        {
          "output_type": "stream",
          "name": "stdout",
          "text": [
            "This is an example of string concatenation\n"
          ]
        }
      ]
    },
    {
      "cell_type": "code",
      "source": [
        "1 + 2"
      ],
      "metadata": {
        "colab": {
          "base_uri": "https://localhost:8080/"
        },
        "id": "9FZi6cpdIfjm",
        "outputId": "6548e212-334c-4950-ef6d-e1f72af4357f"
      },
      "execution_count": 10,
      "outputs": [
        {
          "output_type": "execute_result",
          "data": {
            "text/plain": [
              "3"
            ]
          },
          "metadata": {},
          "execution_count": 10
        }
      ]
    },
    {
      "cell_type": "code",
      "source": [
        "list_one = [\"apples\", \"oranges\"]\n",
        "list_two = [\"pears\", \"satsumas\"]\n",
        "list_full = list_one + list_two\n",
        "print(list_full)"
      ],
      "metadata": {
        "colab": {
          "base_uri": "https://localhost:8080/"
        },
        "id": "bGLDfGOtIokJ",
        "outputId": "2b11c6b9-8614-4a6d-c0ec-64d66b0b6648"
      },
      "execution_count": 11,
      "outputs": [
        {
          "output_type": "stream",
          "name": "stdout",
          "text": [
            "['apples', 'oranges', 'pears', 'satsumas']\n"
          ]
        }
      ]
    },
    {
      "cell_type": "code",
      "source": [
        "string = \"apples, \"\n",
        "print(string * 3)"
      ],
      "metadata": {
        "colab": {
          "base_uri": "https://localhost:8080/"
        },
        "id": "NMnE4vxLI4UQ",
        "outputId": "38465f70-ae9c-4795-d2b3-105240903616"
      },
      "execution_count": 12,
      "outputs": [
        {
          "output_type": "stream",
          "name": "stdout",
          "text": [
            "apples, apples, apples, \n"
          ]
        }
      ]
    },
    {
      "cell_type": "markdown",
      "source": [
        "Classwork 1.1"
      ],
      "metadata": {
        "id": "ONjSRCN8JOHa"
      }
    },
    {
      "cell_type": "code",
      "source": [
        "(2**5) / ( 7 * ( 4 - 2**3) )"
      ],
      "metadata": {
        "colab": {
          "base_uri": "https://localhost:8080/"
        },
        "id": "mONDCYIIJP1J",
        "outputId": "d53b2a33-8e12-46dc-a8bb-e1aad87a32b9"
      },
      "execution_count": 13,
      "outputs": [
        {
          "output_type": "execute_result",
          "data": {
            "text/plain": [
              "-1.1428571428571428"
            ]
          },
          "metadata": {},
          "execution_count": 13
        }
      ]
    },
    {
      "cell_type": "markdown",
      "source": [
        "Boolean"
      ],
      "metadata": {
        "id": "qHgmxCYnJ37D"
      }
    },
    {
      "cell_type": "code",
      "source": [
        "10 == 20\n"
      ],
      "metadata": {
        "colab": {
          "base_uri": "https://localhost:8080/"
        },
        "id": "C0gc7VrAJ25r",
        "outputId": "3e9c12f9-a68f-4865-9615-4978bb77e6bb"
      },
      "execution_count": 15,
      "outputs": [
        {
          "output_type": "execute_result",
          "data": {
            "text/plain": [
              "False"
            ]
          },
          "metadata": {},
          "execution_count": 15
        }
      ]
    },
    {
      "cell_type": "code",
      "source": [
        "10 == '10'"
      ],
      "metadata": {
        "colab": {
          "base_uri": "https://localhost:8080/"
        },
        "id": "GelyOBxBJ7gI",
        "outputId": "df1cb0bb-abaa-4b48-9d37-d1bb816a4aa1"
      },
      "execution_count": 16,
      "outputs": [
        {
          "output_type": "execute_result",
          "data": {
            "text/plain": [
              "False"
            ]
          },
          "metadata": {},
          "execution_count": 16
        }
      ]
    },
    {
      "cell_type": "code",
      "source": [
        "type(10)"
      ],
      "metadata": {
        "colab": {
          "base_uri": "https://localhost:8080/"
        },
        "id": "3jOjna_7J9LK",
        "outputId": "0b8894f0-9a94-4d18-a5a3-86f1a8072ebe"
      },
      "execution_count": 17,
      "outputs": [
        {
          "output_type": "execute_result",
          "data": {
            "text/plain": [
              "int"
            ]
          },
          "metadata": {},
          "execution_count": 17
        }
      ]
    },
    {
      "cell_type": "code",
      "source": [
        "type('10')"
      ],
      "metadata": {
        "colab": {
          "base_uri": "https://localhost:8080/"
        },
        "id": "9U8C5q-RJ_Gu",
        "outputId": "c1700841-ca21-4b7b-d77f-a81b923c5076"
      },
      "execution_count": 18,
      "outputs": [
        {
          "output_type": "execute_result",
          "data": {
            "text/plain": [
              "str"
            ]
          },
          "metadata": {},
          "execution_count": 18
        }
      ]
    },
    {
      "cell_type": "code",
      "source": [
        "boolean_condition1 = 10 == 20\n",
        "print(boolean_condition1)"
      ],
      "metadata": {
        "colab": {
          "base_uri": "https://localhost:8080/"
        },
        "id": "hqFDx7kYKez5",
        "outputId": "b0f261fa-0416-4d8e-a870-030648012407"
      },
      "execution_count": 19,
      "outputs": [
        {
          "output_type": "stream",
          "name": "stdout",
          "text": [
            "False\n"
          ]
        }
      ]
    },
    {
      "cell_type": "code",
      "source": [
        "\n",
        "\n",
        "boolean_condition2 = 10 == '10'\n",
        "print(boolean_condition2)"
      ],
      "metadata": {
        "colab": {
          "base_uri": "https://localhost:8080/"
        },
        "id": "1i4-slw8Kf_m",
        "outputId": "cd644dc9-5bd9-48c6-aaf6-a2787ad0a1e4"
      },
      "execution_count": 20,
      "outputs": [
        {
          "output_type": "stream",
          "name": "stdout",
          "text": [
            "False\n"
          ]
        }
      ]
    },
    {
      "cell_type": "code",
      "source": [
        "boolean_condition1 == boolean_condition2"
      ],
      "metadata": {
        "colab": {
          "base_uri": "https://localhost:8080/"
        },
        "id": "BJ47GwI0Kht-",
        "outputId": "5ed2532a-8ee9-4fae-d765-a12f1131b722"
      },
      "execution_count": 21,
      "outputs": [
        {
          "output_type": "execute_result",
          "data": {
            "text/plain": [
              "True"
            ]
          },
          "metadata": {},
          "execution_count": 21
        }
      ]
    },
    {
      "cell_type": "code",
      "source": [
        "boolean_condition1 and boolean_condition2"
      ],
      "metadata": {
        "colab": {
          "base_uri": "https://localhost:8080/"
        },
        "id": "phkFP8QMKnqJ",
        "outputId": "9cfd9f97-de48-4017-8d03-3af702da44d3"
      },
      "execution_count": 22,
      "outputs": [
        {
          "output_type": "execute_result",
          "data": {
            "text/plain": [
              "False"
            ]
          },
          "metadata": {},
          "execution_count": 22
        }
      ]
    },
    {
      "cell_type": "code",
      "source": [
        "not boolean_condition1"
      ],
      "metadata": {
        "colab": {
          "base_uri": "https://localhost:8080/"
        },
        "id": "uaYlXyO-Ksr0",
        "outputId": "f3d92823-7d3c-4e7a-de38-e77ebb167e99"
      },
      "execution_count": 23,
      "outputs": [
        {
          "output_type": "execute_result",
          "data": {
            "text/plain": [
              "True"
            ]
          },
          "metadata": {},
          "execution_count": 23
        }
      ]
    },
    {
      "cell_type": "code",
      "source": [
        "(not boolean_condition1) or boolean_condition2"
      ],
      "metadata": {
        "colab": {
          "base_uri": "https://localhost:8080/"
        },
        "id": "LGjeYhqHKzrs",
        "outputId": "a9620b15-f5b6-454a-8e36-ecd4a9c67a53"
      },
      "execution_count": 24,
      "outputs": [
        {
          "output_type": "execute_result",
          "data": {
            "text/plain": [
              "True"
            ]
          },
          "metadata": {},
          "execution_count": 24
        }
      ]
    },
    {
      "cell_type": "code",
      "source": [
        "(not boolean_condition1) and boolean_condition2"
      ],
      "metadata": {
        "colab": {
          "base_uri": "https://localhost:8080/"
        },
        "id": "_jjXku3IK7FJ",
        "outputId": "54284bb7-c882-437b-dd22-7ae6bd65c44b"
      },
      "execution_count": 25,
      "outputs": [
        {
          "output_type": "execute_result",
          "data": {
            "text/plain": [
              "False"
            ]
          },
          "metadata": {},
          "execution_count": 25
        }
      ]
    },
    {
      "cell_type": "code",
      "source": [
        "x = 4.0\n",
        "y = .5\n",
        "\n",
        "x < y or 3*y < x"
      ],
      "metadata": {
        "colab": {
          "base_uri": "https://localhost:8080/"
        },
        "id": "MoB5kJrGLadk",
        "outputId": "b0dff821-c0c8-4adb-e9fc-187c4ebb47f7"
      },
      "execution_count": 26,
      "outputs": [
        {
          "output_type": "execute_result",
          "data": {
            "text/plain": [
              "True"
            ]
          },
          "metadata": {},
          "execution_count": 26
        }
      ]
    },
    {
      "cell_type": "code",
      "source": [
        "name = \"Geneseo\"\n",
        "score = 99\n",
        "name == \"Geneseo\" or score > 90"
      ],
      "metadata": {
        "colab": {
          "base_uri": "https://localhost:8080/"
        },
        "id": "JrLrpuS3L-DT",
        "outputId": "26517841-3849-4e73-e2d1-43b0bc702002"
      },
      "execution_count": 28,
      "outputs": [
        {
          "output_type": "execute_result",
          "data": {
            "text/plain": [
              "True"
            ]
          },
          "metadata": {},
          "execution_count": 28
        }
      ]
    },
    {
      "cell_type": "code",
      "source": [
        "name != \"Geneseo\" and score > 90"
      ],
      "metadata": {
        "colab": {
          "base_uri": "https://localhost:8080/"
        },
        "id": "wyCZ7U80MFKy",
        "outputId": "b1fa155c-4c62-49d5-9c31-24bb4efe6e68"
      },
      "execution_count": 29,
      "outputs": [
        {
          "output_type": "execute_result",
          "data": {
            "text/plain": [
              "False"
            ]
          },
          "metadata": {},
          "execution_count": 29
        }
      ]
    },
    {
      "cell_type": "code",
      "source": [
        "name = \"Geneseo\"\n",
        "score = 99\n",
        "\n",
        "if name == \"Geneseo\" and score > 90:\n",
        "    print(\"Geneseo, you achieved a high score.\")\n"
      ],
      "metadata": {
        "colab": {
          "base_uri": "https://localhost:8080/"
        },
        "id": "qoEnluKHLb4y",
        "outputId": "1f208bc4-fd9b-4bae-cbbc-54d91ecb3369"
      },
      "execution_count": 30,
      "outputs": [
        {
          "output_type": "stream",
          "name": "stdout",
          "text": [
            "Geneseo, you achieved a high score.\n"
          ]
        }
      ]
    },
    {
      "cell_type": "code",
      "source": [
        "\n",
        "if name == \"Geneseo\" or score > 90:\n",
        "    print(\"You could be called Geneseo or have a high score\")\n"
      ],
      "metadata": {
        "colab": {
          "base_uri": "https://localhost:8080/"
        },
        "id": "brKfF8deMMFx",
        "outputId": "bf38d6b1-b7c6-45fb-a9c7-91351c3a2181"
      },
      "execution_count": 31,
      "outputs": [
        {
          "output_type": "stream",
          "name": "stdout",
          "text": [
            "You could be called Geneseo or have a high score\n"
          ]
        }
      ]
    },
    {
      "cell_type": "code",
      "source": [
        "\n",
        "if name != \"Geneseo\" and score > 90:\n",
        "    print(\"You are not called Geneseo and you have a high score\")"
      ],
      "metadata": {
        "id": "tqbGAUsiMRv-"
      },
      "execution_count": 32,
      "outputs": []
    },
    {
      "cell_type": "code",
      "source": [
        "name_list = [\"Lovelace\", \"Smith\", \"Hopper\", \"Babbage\"]\n",
        "\n",
        "print(\"Lovelace\" in name_list)\n",
        "\n"
      ],
      "metadata": {
        "colab": {
          "base_uri": "https://localhost:8080/"
        },
        "id": "sVjxQauQMqNw",
        "outputId": "efbf9003-8a1d-4d7c-e3d0-8aaf28e6c381"
      },
      "execution_count": 33,
      "outputs": [
        {
          "output_type": "stream",
          "name": "stdout",
          "text": [
            "True\n"
          ]
        }
      ]
    },
    {
      "cell_type": "code",
      "source": [
        "print(\"Bob\" in name_list)"
      ],
      "metadata": {
        "colab": {
          "base_uri": "https://localhost:8080/"
        },
        "id": "_47CeJJqMsDM",
        "outputId": "ad697dc4-7d68-49db-abac-245ce711cfb0"
      },
      "execution_count": 34,
      "outputs": [
        {
          "output_type": "stream",
          "name": "stdout",
          "text": [
            "False\n"
          ]
        }
      ]
    },
    {
      "cell_type": "markdown",
      "source": [
        "Check if “a” is in the string “Sun Devil Arena” using in. Is “a” in “Anyone”?"
      ],
      "metadata": {
        "id": "6YvR6On_M6v2"
      }
    },
    {
      "cell_type": "code",
      "source": [
        "\"a\" in \"Sun Devil Arena\""
      ],
      "metadata": {
        "colab": {
          "base_uri": "https://localhost:8080/"
        },
        "id": "4JEQUpHkM5zI",
        "outputId": "59dbd7b9-242e-4ef9-abce-c5e9cedd8ac5"
      },
      "execution_count": 35,
      "outputs": [
        {
          "output_type": "execute_result",
          "data": {
            "text/plain": [
              "True"
            ]
          },
          "metadata": {},
          "execution_count": 35
        }
      ]
    },
    {
      "cell_type": "markdown",
      "source": [
        "Python is case-sensitive!!!"
      ],
      "metadata": {
        "id": "WvJsLWP_NID9"
      }
    },
    {
      "cell_type": "code",
      "source": [
        "\"a\" in \"Anyone\""
      ],
      "metadata": {
        "colab": {
          "base_uri": "https://localhost:8080/"
        },
        "id": "yKSuMU7SNDX_",
        "outputId": "a2e22033-9bad-4c0f-ca4f-5251a1a3f06b"
      },
      "execution_count": 36,
      "outputs": [
        {
          "output_type": "execute_result",
          "data": {
            "text/plain": [
              "False"
            ]
          },
          "metadata": {},
          "execution_count": 36
        }
      ]
    },
    {
      "cell_type": "code",
      "source": [
        "score = 98\n",
        "\n",
        "if score == 100:\n",
        "    print(\"Top marks!\")\n",
        "elif score > 90 and score < 100:\n",
        "    print(\"High score!\")\n",
        "elif score > 10 and score <= 90:\n",
        "    pass\n",
        "else:\n",
        "    print(\"Better luck next time.\")"
      ],
      "metadata": {
        "id": "7n3dsIczNyLw"
      },
      "execution_count": null,
      "outputs": []
    },
    {
      "cell_type": "code",
      "source": [
        "score = 9\n",
        "\n",
        "if score == 100:\n",
        "    print(\"Top marks!\")\n",
        "elif score > 90 and score < 100:\n",
        "    print(\"High score!\")\n",
        "elif score > 10 and score <= 90:\n",
        "    pass\n",
        "else:\n",
        "    print(\"Better luck next time.\")"
      ],
      "metadata": {
        "colab": {
          "base_uri": "https://localhost:8080/"
        },
        "id": "XzGVwUsuNolJ",
        "outputId": "df512dd9-99b4-4a67-d4d2-b81829b1ff6b"
      },
      "execution_count": 38,
      "outputs": [
        {
          "output_type": "stream",
          "name": "stdout",
          "text": [
            "Better luck next time.\n"
          ]
        }
      ]
    },
    {
      "cell_type": "markdown",
      "source": [
        "pass is excuted:"
      ],
      "metadata": {
        "id": "CaBCy9LdODgg"
      }
    },
    {
      "cell_type": "code",
      "source": [
        "score = 80\n",
        "\n",
        "if score == 100:\n",
        "    print(\"Top marks!\")\n",
        "elif score > 90 and score < 100:\n",
        "    print(\"High score!\")\n",
        "elif score > 10 and score <= 90:\n",
        "    pass\n",
        "else:\n",
        "    print(\"Better luck next time.\")"
      ],
      "metadata": {
        "id": "QL7Rcc45Nzmt"
      },
      "execution_count": 39,
      "outputs": []
    },
    {
      "cell_type": "code",
      "source": [
        "orig_number = 4.39898498\n",
        "orig_number"
      ],
      "metadata": {
        "colab": {
          "base_uri": "https://localhost:8080/"
        },
        "id": "LbZK-JQAOwsI",
        "outputId": "0999398d-42df-45f0-d821-c75c0b7501f7"
      },
      "execution_count": 46,
      "outputs": [
        {
          "output_type": "execute_result",
          "data": {
            "text/plain": [
              "4.39898498"
            ]
          },
          "metadata": {},
          "execution_count": 46
        }
      ]
    },
    {
      "cell_type": "code",
      "source": [
        "orig_number = 4.39898498\n",
        "type(orig_number)"
      ],
      "metadata": {
        "colab": {
          "base_uri": "https://localhost:8080/"
        },
        "id": "3x4j0qX-OT3r",
        "outputId": "0437a0ed-73f9-46f5-c1bb-5294a928c822"
      },
      "execution_count": 40,
      "outputs": [
        {
          "output_type": "execute_result",
          "data": {
            "text/plain": [
              "float"
            ]
          },
          "metadata": {},
          "execution_count": 40
        }
      ]
    },
    {
      "cell_type": "code",
      "source": [
        "mod_number = int(orig_number)\n",
        "mod_number"
      ],
      "metadata": {
        "colab": {
          "base_uri": "https://localhost:8080/"
        },
        "id": "14IRuPVXOV0n",
        "outputId": "c26e148b-d99d-4038-bab1-66109d2459fa"
      },
      "execution_count": 42,
      "outputs": [
        {
          "output_type": "execute_result",
          "data": {
            "text/plain": [
              "4"
            ]
          },
          "metadata": {},
          "execution_count": 42
        }
      ]
    },
    {
      "cell_type": "code",
      "source": [
        "\n",
        "type(mod_number)"
      ],
      "metadata": {
        "colab": {
          "base_uri": "https://localhost:8080/"
        },
        "id": "I753tjxSObJL",
        "outputId": "5dc4d6d8-7942-4e4a-d735-7c4187065826"
      },
      "execution_count": 43,
      "outputs": [
        {
          "output_type": "execute_result",
          "data": {
            "text/plain": [
              "int"
            ]
          },
          "metadata": {},
          "execution_count": 43
        }
      ]
    },
    {
      "cell_type": "code",
      "source": [
        "int(\"ab\")"
      ],
      "metadata": {
        "colab": {
          "base_uri": "https://localhost:8080/",
          "height": 174
        },
        "id": "_nQB2rkyOlkd",
        "outputId": "df9d1456-2ebd-4dc7-9bce-53056d223c90"
      },
      "execution_count": 44,
      "outputs": [
        {
          "output_type": "error",
          "ename": "ValueError",
          "evalue": "invalid literal for int() with base 10: 'ab'",
          "traceback": [
            "\u001b[0;31m---------------------------------------------------------------------------\u001b[0m",
            "\u001b[0;31mValueError\u001b[0m                                Traceback (most recent call last)",
            "\u001b[0;32m<ipython-input-44-00e9cb07ad41>\u001b[0m in \u001b[0;36m<cell line: 1>\u001b[0;34m()\u001b[0m\n\u001b[0;32m----> 1\u001b[0;31m \u001b[0mint\u001b[0m\u001b[0;34m(\u001b[0m\u001b[0;34m\"ab\"\u001b[0m\u001b[0;34m)\u001b[0m\u001b[0;34m\u001b[0m\u001b[0;34m\u001b[0m\u001b[0m\n\u001b[0m",
            "\u001b[0;31mValueError\u001b[0m: invalid literal for int() with base 10: 'ab'"
          ]
        }
      ]
    },
    {
      "cell_type": "code",
      "source": [
        "int(4.9)"
      ],
      "metadata": {
        "colab": {
          "base_uri": "https://localhost:8080/"
        },
        "id": "wnXRn7ZhOvku",
        "outputId": "44b77344-bed3-4bfd-8b49-4e22f4e2e0bf"
      },
      "execution_count": 47,
      "outputs": [
        {
          "output_type": "execute_result",
          "data": {
            "text/plain": [
              "4"
            ]
          },
          "metadata": {},
          "execution_count": 47
        }
      ]
    },
    {
      "cell_type": "code",
      "source": [
        "score = 98\n",
        "\n",
        "if score == 100:\n",
        "print(\"Top marks!\") # indentation: double taps or four spaces\n",
        "elif score > 90 and score < 100:\n",
        "    print(\"High score!\")\n",
        "elif score > 10 and score <= 90:\n",
        "    pass\n",
        "else:\n",
        "    print(\"Better luck next time.\")"
      ],
      "metadata": {
        "colab": {
          "base_uri": "https://localhost:8080/",
          "height": 140
        },
        "id": "ONCO6tocPf9i",
        "outputId": "c0685b7f-42ce-4faf-af9e-59025a800e60"
      },
      "execution_count": 48,
      "outputs": [
        {
          "output_type": "error",
          "ename": "IndentationError",
          "evalue": "expected an indented block after 'if' statement on line 3 (<ipython-input-48-62187f925a9a>, line 4)",
          "traceback": [
            "\u001b[0;36m  File \u001b[0;32m\"<ipython-input-48-62187f925a9a>\"\u001b[0;36m, line \u001b[0;32m4\u001b[0m\n\u001b[0;31m    print(\"Top marks!\")\u001b[0m\n\u001b[0m    ^\u001b[0m\n\u001b[0;31mIndentationError\u001b[0m\u001b[0;31m:\u001b[0m expected an indented block after 'if' statement on line 3\n"
          ]
        }
      ]
    },
    {
      "cell_type": "code",
      "source": [
        "name_list = [\"Ben\", \"Chris\", \"Kate\", \"Mary\"]\n",
        "\n",
        "for name in name_list:\n",
        "    print(name)"
      ],
      "metadata": {
        "colab": {
          "base_uri": "https://localhost:8080/"
        },
        "id": "FGcFxqamQJBS",
        "outputId": "0661ab17-f4c5-44b7-b934-28106b80763a"
      },
      "execution_count": 49,
      "outputs": [
        {
          "output_type": "stream",
          "name": "stdout",
          "text": [
            "Ben\n",
            "Chris\n",
            "Kate\n",
            "Mary\n"
          ]
        }
      ]
    },
    {
      "cell_type": "markdown",
      "source": [
        "Iterables are data containers (lists, dictionaries, and tuple) and strings"
      ],
      "metadata": {
        "id": "3m449aLkQnxA"
      }
    },
    {
      "cell_type": "code",
      "source": [
        "for item in \"Geneseo\":\n",
        "    print(item)"
      ],
      "metadata": {
        "colab": {
          "base_uri": "https://localhost:8080/"
        },
        "id": "DRKyX99CQc7z",
        "outputId": "99cad4a5-f984-41ac-b6d2-3a619ebccc6e"
      },
      "execution_count": 50,
      "outputs": [
        {
          "output_type": "stream",
          "name": "stdout",
          "text": [
            "G\n",
            "e\n",
            "n\n",
            "e\n",
            "s\n",
            "e\n",
            "o\n"
          ]
        }
      ]
    },
    {
      "cell_type": "code",
      "source": [
        "cities_to_temps = {\"Paris\": 28, \"London\": 22, \"Seville\": 36, \"Wellesley\": 29}\n",
        "cities_to_temps"
      ],
      "metadata": {
        "colab": {
          "base_uri": "https://localhost:8080/"
        },
        "id": "GxJ4lgViQ-8_",
        "outputId": "4ba2fac0-3958-42a8-d299-0a903f235d0b"
      },
      "execution_count": 51,
      "outputs": [
        {
          "output_type": "execute_result",
          "data": {
            "text/plain": [
              "{'Paris': 28, 'London': 22, 'Seville': 36, 'Wellesley': 29}"
            ]
          },
          "metadata": {},
          "execution_count": 51
        }
      ]
    },
    {
      "cell_type": "code",
      "source": [
        "\n",
        "cities_to_temps.keys()"
      ],
      "metadata": {
        "colab": {
          "base_uri": "https://localhost:8080/"
        },
        "id": "MZU3L54kRDp9",
        "outputId": "09f5494d-0b59-4e35-e013-4f8aebcdb4d8"
      },
      "execution_count": 52,
      "outputs": [
        {
          "output_type": "execute_result",
          "data": {
            "text/plain": [
              "dict_keys(['Paris', 'London', 'Seville', 'Wellesley'])"
            ]
          },
          "metadata": {},
          "execution_count": 52
        }
      ]
    },
    {
      "cell_type": "code",
      "source": [
        "\n",
        "cities_to_temps.values()"
      ],
      "metadata": {
        "colab": {
          "base_uri": "https://localhost:8080/"
        },
        "id": "Ij9ifp2kRLvY",
        "outputId": "1c4bc2f8-0c6c-408e-f2c8-03c6ce5b057a"
      },
      "execution_count": 53,
      "outputs": [
        {
          "output_type": "execute_result",
          "data": {
            "text/plain": [
              "dict_values([28, 22, 36, 29])"
            ]
          },
          "metadata": {},
          "execution_count": 53
        }
      ]
    },
    {
      "cell_type": "code",
      "source": [
        "\n",
        "cities_to_temps.items()"
      ],
      "metadata": {
        "colab": {
          "base_uri": "https://localhost:8080/"
        },
        "id": "otjqwJOKRPTB",
        "outputId": "cfb8bb20-d621-41f4-a6ff-08e2f79a4797"
      },
      "execution_count": 54,
      "outputs": [
        {
          "output_type": "execute_result",
          "data": {
            "text/plain": [
              "dict_items([('Paris', 28), ('London', 22), ('Seville', 36), ('Wellesley', 29)])"
            ]
          },
          "metadata": {},
          "execution_count": 54
        }
      ]
    },
    {
      "cell_type": "code",
      "source": [
        "type([])"
      ],
      "metadata": {
        "colab": {
          "base_uri": "https://localhost:8080/"
        },
        "id": "QCvo4DAqRtfY",
        "outputId": "1b84a399-2168-431a-c07b-6ca1709e81e3"
      },
      "execution_count": 55,
      "outputs": [
        {
          "output_type": "execute_result",
          "data": {
            "text/plain": [
              "list"
            ]
          },
          "metadata": {},
          "execution_count": 55
        }
      ]
    },
    {
      "cell_type": "code",
      "source": [
        "[]"
      ],
      "metadata": {
        "colab": {
          "base_uri": "https://localhost:8080/"
        },
        "id": "LQWaN5C8RySu",
        "outputId": "819323bb-9cea-4c7b-ddef-bc1a5fe1536d"
      },
      "execution_count": 56,
      "outputs": [
        {
          "output_type": "execute_result",
          "data": {
            "text/plain": [
              "[]"
            ]
          },
          "metadata": {},
          "execution_count": 56
        }
      ]
    },
    {
      "cell_type": "code",
      "source": [
        "type({})"
      ],
      "metadata": {
        "colab": {
          "base_uri": "https://localhost:8080/"
        },
        "id": "5t5R5tieR0PO",
        "outputId": "07adc553-ac91-4728-c7d9-2e7df1a42a50"
      },
      "execution_count": 57,
      "outputs": [
        {
          "output_type": "execute_result",
          "data": {
            "text/plain": [
              "dict"
            ]
          },
          "metadata": {},
          "execution_count": 57
        }
      ]
    },
    {
      "cell_type": "code",
      "source": [
        "type(set())"
      ],
      "metadata": {
        "colab": {
          "base_uri": "https://localhost:8080/"
        },
        "id": "WfIuoITNR3H2",
        "outputId": "6194c5d3-ec5b-4877-f9cc-9fc4e9c61329"
      },
      "execution_count": 58,
      "outputs": [
        {
          "output_type": "execute_result",
          "data": {
            "text/plain": [
              "set"
            ]
          },
          "metadata": {},
          "execution_count": 58
        }
      ]
    },
    {
      "cell_type": "code",
      "source": [
        "{\"a\", \"b\"}"
      ],
      "metadata": {
        "colab": {
          "base_uri": "https://localhost:8080/"
        },
        "id": "OOlurJ8XR5Qj",
        "outputId": "b01f720a-4dbd-48cb-be26-4073d062d642"
      },
      "execution_count": 59,
      "outputs": [
        {
          "output_type": "execute_result",
          "data": {
            "text/plain": [
              "{'a', 'b'}"
            ]
          },
          "metadata": {},
          "execution_count": 59
        }
      ]
    },
    {
      "cell_type": "code",
      "source": [
        "type({\"a\", \"b\"})"
      ],
      "metadata": {
        "colab": {
          "base_uri": "https://localhost:8080/"
        },
        "id": "JtNTI_hVR--b",
        "outputId": "39711f90-1289-4d1b-e856-3043f04ef916"
      },
      "execution_count": 60,
      "outputs": [
        {
          "output_type": "execute_result",
          "data": {
            "text/plain": [
              "set"
            ]
          },
          "metadata": {},
          "execution_count": 60
        }
      ]
    },
    {
      "cell_type": "markdown",
      "source": [
        "Slicing methods"
      ],
      "metadata": {
        "id": "wVBVX11XSm4t"
      }
    },
    {
      "cell_type": "code",
      "source": [
        "string = \"cheesecake\"\n",
        "string"
      ],
      "metadata": {
        "colab": {
          "base_uri": "https://localhost:8080/",
          "height": 37
        },
        "id": "dM0NrLdfSnxq",
        "outputId": "283dfbd4-b37b-43a4-9d8a-782f8493c72b"
      },
      "execution_count": 62,
      "outputs": [
        {
          "output_type": "execute_result",
          "data": {
            "text/plain": [
              "'cheesecake'"
            ],
            "application/vnd.google.colaboratory.intrinsic+json": {
              "type": "string"
            }
          },
          "metadata": {},
          "execution_count": 62
        }
      ]
    },
    {
      "cell_type": "code",
      "source": [
        "string[0]"
      ],
      "metadata": {
        "colab": {
          "base_uri": "https://localhost:8080/",
          "height": 37
        },
        "id": "e2IEHZY8Srdx",
        "outputId": "ed7628a8-272d-4598-dcac-62207fc15793"
      },
      "execution_count": 63,
      "outputs": [
        {
          "output_type": "execute_result",
          "data": {
            "text/plain": [
              "'c'"
            ],
            "application/vnd.google.colaboratory.intrinsic+json": {
              "type": "string"
            }
          },
          "metadata": {},
          "execution_count": 63
        }
      ]
    },
    {
      "cell_type": "code",
      "source": [
        "string[1]"
      ],
      "metadata": {
        "colab": {
          "base_uri": "https://localhost:8080/",
          "height": 37
        },
        "id": "Go_yGyQ4SwoP",
        "outputId": "e6733a68-3b51-4f24-f9a6-8a8f0060624f"
      },
      "execution_count": 64,
      "outputs": [
        {
          "output_type": "execute_result",
          "data": {
            "text/plain": [
              "'h'"
            ],
            "application/vnd.google.colaboratory.intrinsic+json": {
              "type": "string"
            }
          },
          "metadata": {},
          "execution_count": 64
        }
      ]
    },
    {
      "cell_type": "code",
      "source": [
        "string[1:]"
      ],
      "metadata": {
        "colab": {
          "base_uri": "https://localhost:8080/",
          "height": 37
        },
        "id": "H8GjJyfVSzoI",
        "outputId": "6591d279-f919-454d-99e4-2ca84b202bf7"
      },
      "execution_count": 65,
      "outputs": [
        {
          "output_type": "execute_result",
          "data": {
            "text/plain": [
              "'heesecake'"
            ],
            "application/vnd.google.colaboratory.intrinsic+json": {
              "type": "string"
            }
          },
          "metadata": {},
          "execution_count": 65
        }
      ]
    },
    {
      "cell_type": "code",
      "source": [
        "string[1:3]"
      ],
      "metadata": {
        "colab": {
          "base_uri": "https://localhost:8080/",
          "height": 37
        },
        "id": "6hTyI5CHS_QR",
        "outputId": "326cd483-1b78-4e5f-f5a1-29e0980cb3ce"
      },
      "execution_count": 66,
      "outputs": [
        {
          "output_type": "execute_result",
          "data": {
            "text/plain": [
              "'he'"
            ],
            "application/vnd.google.colaboratory.intrinsic+json": {
              "type": "string"
            }
          },
          "metadata": {},
          "execution_count": 66
        }
      ]
    },
    {
      "cell_type": "code",
      "source": [
        "string[0:1]"
      ],
      "metadata": {
        "colab": {
          "base_uri": "https://localhost:8080/",
          "height": 37
        },
        "id": "oRXk7_GTThUG",
        "outputId": "57f4ebb5-1a60-4cb8-e4ec-acb306e3b1ed"
      },
      "execution_count": 68,
      "outputs": [
        {
          "output_type": "execute_result",
          "data": {
            "text/plain": [
              "'c'"
            ],
            "application/vnd.google.colaboratory.intrinsic+json": {
              "type": "string"
            }
          },
          "metadata": {},
          "execution_count": 68
        }
      ]
    },
    {
      "cell_type": "code",
      "source": [
        "len(string)"
      ],
      "metadata": {
        "colab": {
          "base_uri": "https://localhost:8080/"
        },
        "id": "fJWamVKiT2Q0",
        "outputId": "67421b7a-aebe-47bd-9fd2-a0e0e9a50b9f"
      },
      "execution_count": 70,
      "outputs": [
        {
          "output_type": "execute_result",
          "data": {
            "text/plain": [
              "10"
            ]
          },
          "metadata": {},
          "execution_count": 70
        }
      ]
    },
    {
      "cell_type": "code",
      "source": [
        "string[0:2] # 2 - 1 = 1"
      ],
      "metadata": {
        "colab": {
          "base_uri": "https://localhost:8080/",
          "height": 37
        },
        "id": "E_LIqJhkTkWG",
        "outputId": "f7322358-c26e-4c4a-fec1-856316a49cb6"
      },
      "execution_count": 69,
      "outputs": [
        {
          "output_type": "execute_result",
          "data": {
            "text/plain": [
              "'ch'"
            ],
            "application/vnd.google.colaboratory.intrinsic+json": {
              "type": "string"
            }
          },
          "metadata": {},
          "execution_count": 69
        }
      ]
    },
    {
      "cell_type": "code",
      "source": [
        "list_example = ['one', 'two', 'three']\n",
        "list_example[ 1 : 3 ]"
      ],
      "metadata": {
        "colab": {
          "base_uri": "https://localhost:8080/"
        },
        "id": "R0wPtf9TTVSY",
        "outputId": "d40f981b-9876-4ada-9247-7bd46ad4b279"
      },
      "execution_count": 67,
      "outputs": [
        {
          "output_type": "execute_result",
          "data": {
            "text/plain": [
              "['two', 'three']"
            ]
          },
          "metadata": {},
          "execution_count": 67
        }
      ]
    },
    {
      "cell_type": "code",
      "source": [
        "len(list_example)"
      ],
      "metadata": {
        "colab": {
          "base_uri": "https://localhost:8080/"
        },
        "id": "VNflBickT82K",
        "outputId": "3624b25a-420b-4824-bd58-5eb80250dedf"
      },
      "execution_count": 71,
      "outputs": [
        {
          "output_type": "execute_result",
          "data": {
            "text/plain": [
              "3"
            ]
          },
          "metadata": {},
          "execution_count": 71
        }
      ]
    },
    {
      "cell_type": "code",
      "source": [],
      "metadata": {
        "id": "WCvWraCUUBf7"
      },
      "execution_count": null,
      "outputs": []
    },
    {
      "cell_type": "code",
      "source": [
        "range(1, 20)"
      ],
      "metadata": {
        "colab": {
          "base_uri": "https://localhost:8080/"
        },
        "id": "nJRXF8fMUE1K",
        "outputId": "8a123ce0-033e-4db6-ca45-d225de4c4c4a"
      },
      "execution_count": 72,
      "outputs": [
        {
          "output_type": "execute_result",
          "data": {
            "text/plain": [
              "range(1, 20)"
            ]
          },
          "metadata": {},
          "execution_count": 72
        }
      ]
    },
    {
      "cell_type": "code",
      "source": [
        "for item in range(1, 20):\n",
        "    print(item)"
      ],
      "metadata": {
        "colab": {
          "base_uri": "https://localhost:8080/"
        },
        "id": "PBLByx-TUHnJ",
        "outputId": "d85f2efc-8289-4e1c-b99e-d77f60711d47"
      },
      "execution_count": 73,
      "outputs": [
        {
          "output_type": "stream",
          "name": "stdout",
          "text": [
            "1\n",
            "2\n",
            "3\n",
            "4\n",
            "5\n",
            "6\n",
            "7\n",
            "8\n",
            "9\n",
            "10\n",
            "11\n",
            "12\n",
            "13\n",
            "14\n",
            "15\n",
            "16\n",
            "17\n",
            "18\n",
            "19\n"
          ]
        }
      ]
    },
    {
      "cell_type": "code",
      "source": [
        "letters = 'abcdefghij'\n",
        "letters[2 : 6 : 2]   # From index 2 to 5, by steps of 2 characters"
      ],
      "metadata": {
        "colab": {
          "base_uri": "https://localhost:8080/",
          "height": 37
        },
        "id": "izVd0hqRUipo",
        "outputId": "33b20da4-d305-42bf-fcd8-4a7edf3ac5b1"
      },
      "execution_count": 74,
      "outputs": [
        {
          "output_type": "execute_result",
          "data": {
            "text/plain": [
              "'ce'"
            ],
            "application/vnd.google.colaboratory.intrinsic+json": {
              "type": "string"
            }
          },
          "metadata": {},
          "execution_count": 74
        }
      ]
    },
    {
      "cell_type": "code",
      "source": [
        "letters = 'abcdefghij'\n",
        "letters[2 : 6 : 1]"
      ],
      "metadata": {
        "colab": {
          "base_uri": "https://localhost:8080/",
          "height": 37
        },
        "id": "xec3ofk8Uowm",
        "outputId": "445f5957-1532-4de5-8f19-04f79a04b28f"
      },
      "execution_count": 75,
      "outputs": [
        {
          "output_type": "execute_result",
          "data": {
            "text/plain": [
              "'cdef'"
            ],
            "application/vnd.google.colaboratory.intrinsic+json": {
              "type": "string"
            }
          },
          "metadata": {},
          "execution_count": 75
        }
      ]
    },
    {
      "cell_type": "code",
      "source": [
        "suny = ['Geneseo', 'Brockport', 'Oswego', 'Binghamton',\n",
        "        'Stony Brook', 'New Paltz']\n",
        "suny"
      ],
      "metadata": {
        "colab": {
          "base_uri": "https://localhost:8080/"
        },
        "id": "mH7VKOnVVTgg",
        "outputId": "77cc2ee8-578e-4fe2-b82f-971a7b84b796"
      },
      "execution_count": 77,
      "outputs": [
        {
          "output_type": "execute_result",
          "data": {
            "text/plain": [
              "['Geneseo', 'Brockport', 'Oswego', 'Binghamton', 'Stony Brook', 'New Paltz']"
            ]
          },
          "metadata": {},
          "execution_count": 77
        }
      ]
    },
    {
      "cell_type": "code",
      "source": [
        "suny[7]"
      ],
      "metadata": {
        "colab": {
          "base_uri": "https://localhost:8080/",
          "height": 174
        },
        "id": "umgpDf6gVPwL",
        "outputId": "4b7ef244-e8a4-46f6-d726-fce7c21c492a"
      },
      "execution_count": 82,
      "outputs": [
        {
          "output_type": "error",
          "ename": "IndexError",
          "evalue": "list index out of range",
          "traceback": [
            "\u001b[0;31m---------------------------------------------------------------------------\u001b[0m",
            "\u001b[0;31mIndexError\u001b[0m                                Traceback (most recent call last)",
            "\u001b[0;32m<ipython-input-82-e975ef6d1cb4>\u001b[0m in \u001b[0;36m<cell line: 1>\u001b[0;34m()\u001b[0m\n\u001b[0;32m----> 1\u001b[0;31m \u001b[0msuny\u001b[0m\u001b[0;34m[\u001b[0m\u001b[0;36m7\u001b[0m\u001b[0;34m]\u001b[0m\u001b[0;34m\u001b[0m\u001b[0;34m\u001b[0m\u001b[0m\n\u001b[0m",
            "\u001b[0;31mIndexError\u001b[0m: list index out of range"
          ]
        }
      ]
    },
    {
      "cell_type": "code",
      "source": [
        "suny[-1]"
      ],
      "metadata": {
        "colab": {
          "base_uri": "https://localhost:8080/",
          "height": 37
        },
        "id": "5XtXUa58Vmn5",
        "outputId": "7cdfcc0d-8c37-47b3-bf85-41bd697c8cb5"
      },
      "execution_count": 83,
      "outputs": [
        {
          "output_type": "execute_result",
          "data": {
            "text/plain": [
              "'New Paltz'"
            ],
            "application/vnd.google.colaboratory.intrinsic+json": {
              "type": "string"
            }
          },
          "metadata": {},
          "execution_count": 83
        }
      ]
    },
    {
      "cell_type": "code",
      "source": [
        "suny[-6]"
      ],
      "metadata": {
        "colab": {
          "base_uri": "https://localhost:8080/",
          "height": 37
        },
        "id": "gSHLe9dSVp4v",
        "outputId": "cfb5ed7b-645c-46f1-8838-f46da4ab4dc9"
      },
      "execution_count": 84,
      "outputs": [
        {
          "output_type": "execute_result",
          "data": {
            "text/plain": [
              "'Geneseo'"
            ],
            "application/vnd.google.colaboratory.intrinsic+json": {
              "type": "string"
            }
          },
          "metadata": {},
          "execution_count": 84
        }
      ]
    },
    {
      "cell_type": "code",
      "source": [
        "len(suny)"
      ],
      "metadata": {
        "colab": {
          "base_uri": "https://localhost:8080/"
        },
        "id": "EF483KUUVtv5",
        "outputId": "1c4d8f72-5279-44df-f08b-cacb0e2a8374"
      },
      "execution_count": 85,
      "outputs": [
        {
          "output_type": "execute_result",
          "data": {
            "text/plain": [
              "6"
            ]
          },
          "metadata": {},
          "execution_count": 85
        }
      ]
    },
    {
      "cell_type": "code",
      "source": [
        "suny[-7]"
      ],
      "metadata": {
        "colab": {
          "base_uri": "https://localhost:8080/",
          "height": 174
        },
        "id": "MCxyxSfRVvCQ",
        "outputId": "61081a33-b1e6-409a-e773-eadcf4895ea2"
      },
      "execution_count": 86,
      "outputs": [
        {
          "output_type": "error",
          "ename": "IndexError",
          "evalue": "list index out of range",
          "traceback": [
            "\u001b[0;31m---------------------------------------------------------------------------\u001b[0m",
            "\u001b[0;31mIndexError\u001b[0m                                Traceback (most recent call last)",
            "\u001b[0;32m<ipython-input-86-e28ea4bd67e4>\u001b[0m in \u001b[0;36m<cell line: 1>\u001b[0;34m()\u001b[0m\n\u001b[0;32m----> 1\u001b[0;31m \u001b[0msuny\u001b[0m\u001b[0;34m[\u001b[0m\u001b[0;34m-\u001b[0m\u001b[0;36m7\u001b[0m\u001b[0;34m]\u001b[0m\u001b[0;34m\u001b[0m\u001b[0;34m\u001b[0m\u001b[0m\n\u001b[0m",
            "\u001b[0;31mIndexError\u001b[0m: list index out of range"
          ]
        }
      ]
    },
    {
      "cell_type": "code",
      "source": [
        "fare = \"$10.00\"\n",
        "tip = \"2.00$\"\n",
        "tax = \"$ 0.80\""
      ],
      "metadata": {
        "id": "age9nMIrWKNq"
      },
      "execution_count": 87,
      "outputs": []
    },
    {
      "cell_type": "code",
      "source": [
        "fare = float(fare)"
      ],
      "metadata": {
        "colab": {
          "base_uri": "https://localhost:8080/",
          "height": 174
        },
        "id": "a3C9oa3yWMnp",
        "outputId": "8598115f-33a7-4de1-a5a6-88efaf7cba12"
      },
      "execution_count": 88,
      "outputs": [
        {
          "output_type": "error",
          "ename": "ValueError",
          "evalue": "could not convert string to float: '$10.00'",
          "traceback": [
            "\u001b[0;31m---------------------------------------------------------------------------\u001b[0m",
            "\u001b[0;31mValueError\u001b[0m                                Traceback (most recent call last)",
            "\u001b[0;32m<ipython-input-88-93bf52a417e5>\u001b[0m in \u001b[0;36m<cell line: 1>\u001b[0;34m()\u001b[0m\n\u001b[0;32m----> 1\u001b[0;31m \u001b[0mfare\u001b[0m \u001b[0;34m=\u001b[0m \u001b[0mfloat\u001b[0m\u001b[0;34m(\u001b[0m\u001b[0mfare\u001b[0m\u001b[0;34m)\u001b[0m\u001b[0;34m\u001b[0m\u001b[0;34m\u001b[0m\u001b[0m\n\u001b[0m",
            "\u001b[0;31mValueError\u001b[0m: could not convert string to float: '$10.00'"
          ]
        }
      ]
    },
    {
      "cell_type": "code",
      "source": [
        "fare = float(\"10.00\")\n",
        "fare"
      ],
      "metadata": {
        "colab": {
          "base_uri": "https://localhost:8080/"
        },
        "id": "FzgKpl8gWTAT",
        "outputId": "72b27798-dfe9-4b5b-e450-71df148eb8c2"
      },
      "execution_count": 90,
      "outputs": [
        {
          "output_type": "execute_result",
          "data": {
            "text/plain": [
              "10.0"
            ]
          },
          "metadata": {},
          "execution_count": 90
        }
      ]
    },
    {
      "cell_type": "code",
      "source": [
        "fare = \"$10.00\"\n",
        "fare = fare[1:]\n",
        "fare = float(fare)\n",
        "fare"
      ],
      "metadata": {
        "colab": {
          "base_uri": "https://localhost:8080/"
        },
        "id": "TfyPHHneWZKL",
        "outputId": "aa1b470b-714d-424d-d9ca-a34ca854869f"
      },
      "execution_count": 106,
      "outputs": [
        {
          "output_type": "execute_result",
          "data": {
            "text/plain": [
              "10.0"
            ]
          },
          "metadata": {},
          "execution_count": 106
        }
      ]
    },
    {
      "cell_type": "markdown",
      "source": [
        "0 1 2 3 4\n",
        "2 . 0 0 $\n",
        "-5  -4  -3  -2  -1"
      ],
      "metadata": {
        "id": "j4_HEjVhXRuf"
      }
    },
    {
      "cell_type": "code",
      "source": [
        "tip = \"2.00$\"\n",
        "tip = tip[-5:-2]\n",
        "tip = float(tip)\n",
        "tip"
      ],
      "metadata": {
        "colab": {
          "base_uri": "https://localhost:8080/"
        },
        "id": "s7Cn_ZXIWwt9",
        "outputId": "e9029da3-0ed2-4ce4-8a4a-846f0c741fb8"
      },
      "execution_count": 107,
      "outputs": [
        {
          "output_type": "execute_result",
          "data": {
            "text/plain": [
              "2.0"
            ]
          },
          "metadata": {},
          "execution_count": 107
        }
      ]
    },
    {
      "cell_type": "code",
      "source": [
        "tax = \"$ 0.80\"\n",
        "tax = float(tax[2:])\n",
        "tax"
      ],
      "metadata": {
        "colab": {
          "base_uri": "https://localhost:8080/"
        },
        "id": "taKInZ0-XqJj",
        "outputId": "20a7ee22-56c8-47ab-9797-fd953443f12e"
      },
      "execution_count": 108,
      "outputs": [
        {
          "output_type": "execute_result",
          "data": {
            "text/plain": [
              "0.8"
            ]
          },
          "metadata": {},
          "execution_count": 108
        }
      ]
    },
    {
      "cell_type": "code",
      "source": [
        "total = fare + tip + tax\n",
        "total"
      ],
      "metadata": {
        "colab": {
          "base_uri": "https://localhost:8080/"
        },
        "id": "mQnKXMsfX1f9",
        "outputId": "070eb084-039b-4139-dda3-89019d327677"
      },
      "execution_count": 109,
      "outputs": [
        {
          "output_type": "execute_result",
          "data": {
            "text/plain": [
              "12.8"
            ]
          },
          "metadata": {},
          "execution_count": 109
        }
      ]
    },
    {
      "cell_type": "code",
      "source": [
        "print(\"The total trip cost is: $\", total)"
      ],
      "metadata": {
        "colab": {
          "base_uri": "https://localhost:8080/"
        },
        "id": "u6gPM3v4X7IG",
        "outputId": "b05c2900-7137-43f0-c274-636c4070918d"
      },
      "execution_count": 112,
      "outputs": [
        {
          "output_type": "stream",
          "name": "stdout",
          "text": [
            "The total trip cost is: $ 12.8\n"
          ]
        }
      ]
    },
    {
      "cell_type": "code",
      "source": [
        "str(5)"
      ],
      "metadata": {
        "colab": {
          "base_uri": "https://localhost:8080/",
          "height": 37
        },
        "id": "6Sb8WfnpYZ1p",
        "outputId": "2b87ee39-9df0-411e-cc3e-b22ba115d663"
      },
      "execution_count": 113,
      "outputs": [
        {
          "output_type": "execute_result",
          "data": {
            "text/plain": [
              "'5'"
            ],
            "application/vnd.google.colaboratory.intrinsic+json": {
              "type": "string"
            }
          },
          "metadata": {},
          "execution_count": 113
        }
      ]
    },
    {
      "cell_type": "code",
      "source": [
        "print(\"Cherry\", \"Strawberry\", \"Key Lime\")"
      ],
      "metadata": {
        "colab": {
          "base_uri": "https://localhost:8080/"
        },
        "id": "I39CH0kJYuxR",
        "outputId": "072e7806-74bb-4dba-8f31-e463331b0709"
      },
      "execution_count": 114,
      "outputs": [
        {
          "output_type": "stream",
          "name": "stdout",
          "text": [
            "Cherry Strawberry Key Lime\n"
          ]
        }
      ]
    },
    {
      "cell_type": "code",
      "source": [
        "print(\"Cherry\", \"Strawberry\", \"Key Lime\", sep = \"!\")"
      ],
      "metadata": {
        "colab": {
          "base_uri": "https://localhost:8080/"
        },
        "id": "PD6BLwyVYzgZ",
        "outputId": "3b57429a-234c-4060-dd3c-f61b23543f82"
      },
      "execution_count": 115,
      "outputs": [
        {
          "output_type": "stream",
          "name": "stdout",
          "text": [
            "Cherry!Strawberry!Key Lime\n"
          ]
        }
      ]
    },
    {
      "cell_type": "code",
      "source": [
        "print(\"The total trip cost is: $\", total, \"0\", sep = \"\")"
      ],
      "metadata": {
        "colab": {
          "base_uri": "https://localhost:8080/"
        },
        "id": "HgJnd_bRY_Qu",
        "outputId": "b1178fe6-aeb8-4427-c346-e4424de68c51"
      },
      "execution_count": 116,
      "outputs": [
        {
          "output_type": "stream",
          "name": "stdout",
          "text": [
            "The total trip cost is: $12.80\n"
          ]
        }
      ]
    },
    {
      "cell_type": "code",
      "source": [
        "list_variable = [100, 144, 169, 1000, 8]\n",
        "max(list_variable)"
      ],
      "metadata": {
        "colab": {
          "base_uri": "https://localhost:8080/"
        },
        "id": "Sb3qRdn1Zm-W",
        "outputId": "9713f996-a29c-4bf8-e60a-2ca0b0030273"
      },
      "execution_count": 117,
      "outputs": [
        {
          "output_type": "execute_result",
          "data": {
            "text/plain": [
              "1000"
            ]
          },
          "metadata": {},
          "execution_count": 117
        }
      ]
    },
    {
      "cell_type": "code",
      "source": [
        "print(\"The largest value in the list is:\", max(list_variable))"
      ],
      "metadata": {
        "colab": {
          "base_uri": "https://localhost:8080/"
        },
        "id": "vdQ7xk1UZt7U",
        "outputId": "34a00cf4-cd64-430e-a543-45ecdcb943b9"
      },
      "execution_count": 119,
      "outputs": [
        {
          "output_type": "stream",
          "name": "stdout",
          "text": [
            "The largest value in the list is: 1000\n"
          ]
        }
      ]
    },
    {
      "cell_type": "code",
      "source": [
        "import pandas"
      ],
      "metadata": {
        "id": "q5ZoxuspbDo-"
      },
      "execution_count": 120,
      "outputs": []
    },
    {
      "cell_type": "code",
      "source": [
        "beer = pandas.read_csv(\"http://bcdanl.github.io/data/beer_markets.csv\")\n",
        "beer"
      ],
      "metadata": {
        "colab": {
          "base_uri": "https://localhost:8080/",
          "height": 609
        },
        "id": "QMqcZueNbHtp",
        "outputId": "66fe2720-f483-4339-c265-1609b6c06fab"
      },
      "execution_count": 121,
      "outputs": [
        {
          "output_type": "execute_result",
          "data": {
            "text/plain": [
              "            hh        _purchase_desc  quantity          brand  dollar_spent  \\\n",
              "0      2000946      BUD LT BR CN 12P         1      BUD LIGHT          8.14   \n",
              "1      2003036      BUD LT BR CN 24P         1      BUD LIGHT         17.48   \n",
              "2      2003036      BUD LT BR CN 24P         2      BUD LIGHT         33.92   \n",
              "3      2003036      BUD LT BR CN 30P         2      BUD LIGHT         34.74   \n",
              "4      2003036      BUD LT BR CN 36P         2      BUD LIGHT         40.48   \n",
              "...        ...                   ...       ...            ...           ...   \n",
              "73110  9158319  NATURAL LT BR CN 24P         1  NATURAL LIGHT         11.49   \n",
              "73111  9158319  NATURAL LT BR CN 24P         1  NATURAL LIGHT          9.97   \n",
              "73112  9158319  NATURAL LT BR CN 24P         1  NATURAL LIGHT          9.98   \n",
              "73113  9164033  NATURAL LT BR CN 30P         1  NATURAL LIGHT         12.98   \n",
              "73114  9164155  NATURAL LT BR CN 24P         1  NATURAL LIGHT         13.49   \n",
              "\n",
              "       beer_floz  price_per_floz container  promo          market  ...  age  \\\n",
              "0          144.0        0.056528       CAN  False  RURAL ILLINOIS  ...  50+   \n",
              "1          288.0        0.060694       CAN  False         ATLANTA  ...  50+   \n",
              "2          576.0        0.058889       CAN  False         ATLANTA  ...  50+   \n",
              "3          720.0        0.048250       CAN  False         ATLANTA  ...  50+   \n",
              "4          864.0        0.046852       CAN  False         ATLANTA  ...  50+   \n",
              "...          ...             ...       ...    ...             ...  ...  ...   \n",
              "73110      288.0        0.039896       CAN   True  RURAL VIRGINIA  ...  50+   \n",
              "73111      288.0        0.034618       CAN  False  RURAL VIRGINIA  ...  50+   \n",
              "73112      288.0        0.034653       CAN  False  RURAL VIRGINIA  ...  50+   \n",
              "73113      360.0        0.036056       CAN  False      SACRAMENTO  ...  50+   \n",
              "73114      288.0        0.046840       CAN  False    JACKSONVILLE  ...  50+   \n",
              "\n",
              "      employment   degree                        cow      race microwave  \\\n",
              "0           none     Grad       none/retired/student     white      True   \n",
              "1           full  College     clerical/sales/service     white      True   \n",
              "2           full  College     clerical/sales/service     white      True   \n",
              "3           full  College     clerical/sales/service     white      True   \n",
              "4           full  College     clerical/sales/service     white      True   \n",
              "...          ...      ...                        ...       ...       ...   \n",
              "73110       none       HS       none/retired/student     black      True   \n",
              "73111       none       HS       none/retired/student     black      True   \n",
              "73112       none       HS       none/retired/student     black      True   \n",
              "73113       full  College                       prof  hispanic      True   \n",
              "73114       full       HS  labor/craft/military/farm     white      True   \n",
              "\n",
              "      dishwasher  tvcable singlefamilyhome  npeople  \n",
              "0           True  premium            False        1  \n",
              "1           True    basic             True        2  \n",
              "2           True    basic             True        2  \n",
              "3           True    basic             True        2  \n",
              "4           True    basic             True        2  \n",
              "...          ...      ...              ...      ...  \n",
              "73110       True  premium             True        2  \n",
              "73111       True  premium             True        2  \n",
              "73112       True  premium             True        2  \n",
              "73113       True    basic             True    5plus  \n",
              "73114       True     none             True        2  \n",
              "\n",
              "[73115 rows x 24 columns]"
            ],
            "text/html": [
              "\n",
              "  <div id=\"df-23f32203-952c-434f-b686-b43d286bbe4c\" class=\"colab-df-container\">\n",
              "    <div>\n",
              "<style scoped>\n",
              "    .dataframe tbody tr th:only-of-type {\n",
              "        vertical-align: middle;\n",
              "    }\n",
              "\n",
              "    .dataframe tbody tr th {\n",
              "        vertical-align: top;\n",
              "    }\n",
              "\n",
              "    .dataframe thead th {\n",
              "        text-align: right;\n",
              "    }\n",
              "</style>\n",
              "<table border=\"1\" class=\"dataframe\">\n",
              "  <thead>\n",
              "    <tr style=\"text-align: right;\">\n",
              "      <th></th>\n",
              "      <th>hh</th>\n",
              "      <th>_purchase_desc</th>\n",
              "      <th>quantity</th>\n",
              "      <th>brand</th>\n",
              "      <th>dollar_spent</th>\n",
              "      <th>beer_floz</th>\n",
              "      <th>price_per_floz</th>\n",
              "      <th>container</th>\n",
              "      <th>promo</th>\n",
              "      <th>market</th>\n",
              "      <th>...</th>\n",
              "      <th>age</th>\n",
              "      <th>employment</th>\n",
              "      <th>degree</th>\n",
              "      <th>cow</th>\n",
              "      <th>race</th>\n",
              "      <th>microwave</th>\n",
              "      <th>dishwasher</th>\n",
              "      <th>tvcable</th>\n",
              "      <th>singlefamilyhome</th>\n",
              "      <th>npeople</th>\n",
              "    </tr>\n",
              "  </thead>\n",
              "  <tbody>\n",
              "    <tr>\n",
              "      <th>0</th>\n",
              "      <td>2000946</td>\n",
              "      <td>BUD LT BR CN 12P</td>\n",
              "      <td>1</td>\n",
              "      <td>BUD LIGHT</td>\n",
              "      <td>8.14</td>\n",
              "      <td>144.0</td>\n",
              "      <td>0.056528</td>\n",
              "      <td>CAN</td>\n",
              "      <td>False</td>\n",
              "      <td>RURAL ILLINOIS</td>\n",
              "      <td>...</td>\n",
              "      <td>50+</td>\n",
              "      <td>none</td>\n",
              "      <td>Grad</td>\n",
              "      <td>none/retired/student</td>\n",
              "      <td>white</td>\n",
              "      <td>True</td>\n",
              "      <td>True</td>\n",
              "      <td>premium</td>\n",
              "      <td>False</td>\n",
              "      <td>1</td>\n",
              "    </tr>\n",
              "    <tr>\n",
              "      <th>1</th>\n",
              "      <td>2003036</td>\n",
              "      <td>BUD LT BR CN 24P</td>\n",
              "      <td>1</td>\n",
              "      <td>BUD LIGHT</td>\n",
              "      <td>17.48</td>\n",
              "      <td>288.0</td>\n",
              "      <td>0.060694</td>\n",
              "      <td>CAN</td>\n",
              "      <td>False</td>\n",
              "      <td>ATLANTA</td>\n",
              "      <td>...</td>\n",
              "      <td>50+</td>\n",
              "      <td>full</td>\n",
              "      <td>College</td>\n",
              "      <td>clerical/sales/service</td>\n",
              "      <td>white</td>\n",
              "      <td>True</td>\n",
              "      <td>True</td>\n",
              "      <td>basic</td>\n",
              "      <td>True</td>\n",
              "      <td>2</td>\n",
              "    </tr>\n",
              "    <tr>\n",
              "      <th>2</th>\n",
              "      <td>2003036</td>\n",
              "      <td>BUD LT BR CN 24P</td>\n",
              "      <td>2</td>\n",
              "      <td>BUD LIGHT</td>\n",
              "      <td>33.92</td>\n",
              "      <td>576.0</td>\n",
              "      <td>0.058889</td>\n",
              "      <td>CAN</td>\n",
              "      <td>False</td>\n",
              "      <td>ATLANTA</td>\n",
              "      <td>...</td>\n",
              "      <td>50+</td>\n",
              "      <td>full</td>\n",
              "      <td>College</td>\n",
              "      <td>clerical/sales/service</td>\n",
              "      <td>white</td>\n",
              "      <td>True</td>\n",
              "      <td>True</td>\n",
              "      <td>basic</td>\n",
              "      <td>True</td>\n",
              "      <td>2</td>\n",
              "    </tr>\n",
              "    <tr>\n",
              "      <th>3</th>\n",
              "      <td>2003036</td>\n",
              "      <td>BUD LT BR CN 30P</td>\n",
              "      <td>2</td>\n",
              "      <td>BUD LIGHT</td>\n",
              "      <td>34.74</td>\n",
              "      <td>720.0</td>\n",
              "      <td>0.048250</td>\n",
              "      <td>CAN</td>\n",
              "      <td>False</td>\n",
              "      <td>ATLANTA</td>\n",
              "      <td>...</td>\n",
              "      <td>50+</td>\n",
              "      <td>full</td>\n",
              "      <td>College</td>\n",
              "      <td>clerical/sales/service</td>\n",
              "      <td>white</td>\n",
              "      <td>True</td>\n",
              "      <td>True</td>\n",
              "      <td>basic</td>\n",
              "      <td>True</td>\n",
              "      <td>2</td>\n",
              "    </tr>\n",
              "    <tr>\n",
              "      <th>4</th>\n",
              "      <td>2003036</td>\n",
              "      <td>BUD LT BR CN 36P</td>\n",
              "      <td>2</td>\n",
              "      <td>BUD LIGHT</td>\n",
              "      <td>40.48</td>\n",
              "      <td>864.0</td>\n",
              "      <td>0.046852</td>\n",
              "      <td>CAN</td>\n",
              "      <td>False</td>\n",
              "      <td>ATLANTA</td>\n",
              "      <td>...</td>\n",
              "      <td>50+</td>\n",
              "      <td>full</td>\n",
              "      <td>College</td>\n",
              "      <td>clerical/sales/service</td>\n",
              "      <td>white</td>\n",
              "      <td>True</td>\n",
              "      <td>True</td>\n",
              "      <td>basic</td>\n",
              "      <td>True</td>\n",
              "      <td>2</td>\n",
              "    </tr>\n",
              "    <tr>\n",
              "      <th>...</th>\n",
              "      <td>...</td>\n",
              "      <td>...</td>\n",
              "      <td>...</td>\n",
              "      <td>...</td>\n",
              "      <td>...</td>\n",
              "      <td>...</td>\n",
              "      <td>...</td>\n",
              "      <td>...</td>\n",
              "      <td>...</td>\n",
              "      <td>...</td>\n",
              "      <td>...</td>\n",
              "      <td>...</td>\n",
              "      <td>...</td>\n",
              "      <td>...</td>\n",
              "      <td>...</td>\n",
              "      <td>...</td>\n",
              "      <td>...</td>\n",
              "      <td>...</td>\n",
              "      <td>...</td>\n",
              "      <td>...</td>\n",
              "      <td>...</td>\n",
              "    </tr>\n",
              "    <tr>\n",
              "      <th>73110</th>\n",
              "      <td>9158319</td>\n",
              "      <td>NATURAL LT BR CN 24P</td>\n",
              "      <td>1</td>\n",
              "      <td>NATURAL LIGHT</td>\n",
              "      <td>11.49</td>\n",
              "      <td>288.0</td>\n",
              "      <td>0.039896</td>\n",
              "      <td>CAN</td>\n",
              "      <td>True</td>\n",
              "      <td>RURAL VIRGINIA</td>\n",
              "      <td>...</td>\n",
              "      <td>50+</td>\n",
              "      <td>none</td>\n",
              "      <td>HS</td>\n",
              "      <td>none/retired/student</td>\n",
              "      <td>black</td>\n",
              "      <td>True</td>\n",
              "      <td>True</td>\n",
              "      <td>premium</td>\n",
              "      <td>True</td>\n",
              "      <td>2</td>\n",
              "    </tr>\n",
              "    <tr>\n",
              "      <th>73111</th>\n",
              "      <td>9158319</td>\n",
              "      <td>NATURAL LT BR CN 24P</td>\n",
              "      <td>1</td>\n",
              "      <td>NATURAL LIGHT</td>\n",
              "      <td>9.97</td>\n",
              "      <td>288.0</td>\n",
              "      <td>0.034618</td>\n",
              "      <td>CAN</td>\n",
              "      <td>False</td>\n",
              "      <td>RURAL VIRGINIA</td>\n",
              "      <td>...</td>\n",
              "      <td>50+</td>\n",
              "      <td>none</td>\n",
              "      <td>HS</td>\n",
              "      <td>none/retired/student</td>\n",
              "      <td>black</td>\n",
              "      <td>True</td>\n",
              "      <td>True</td>\n",
              "      <td>premium</td>\n",
              "      <td>True</td>\n",
              "      <td>2</td>\n",
              "    </tr>\n",
              "    <tr>\n",
              "      <th>73112</th>\n",
              "      <td>9158319</td>\n",
              "      <td>NATURAL LT BR CN 24P</td>\n",
              "      <td>1</td>\n",
              "      <td>NATURAL LIGHT</td>\n",
              "      <td>9.98</td>\n",
              "      <td>288.0</td>\n",
              "      <td>0.034653</td>\n",
              "      <td>CAN</td>\n",
              "      <td>False</td>\n",
              "      <td>RURAL VIRGINIA</td>\n",
              "      <td>...</td>\n",
              "      <td>50+</td>\n",
              "      <td>none</td>\n",
              "      <td>HS</td>\n",
              "      <td>none/retired/student</td>\n",
              "      <td>black</td>\n",
              "      <td>True</td>\n",
              "      <td>True</td>\n",
              "      <td>premium</td>\n",
              "      <td>True</td>\n",
              "      <td>2</td>\n",
              "    </tr>\n",
              "    <tr>\n",
              "      <th>73113</th>\n",
              "      <td>9164033</td>\n",
              "      <td>NATURAL LT BR CN 30P</td>\n",
              "      <td>1</td>\n",
              "      <td>NATURAL LIGHT</td>\n",
              "      <td>12.98</td>\n",
              "      <td>360.0</td>\n",
              "      <td>0.036056</td>\n",
              "      <td>CAN</td>\n",
              "      <td>False</td>\n",
              "      <td>SACRAMENTO</td>\n",
              "      <td>...</td>\n",
              "      <td>50+</td>\n",
              "      <td>full</td>\n",
              "      <td>College</td>\n",
              "      <td>prof</td>\n",
              "      <td>hispanic</td>\n",
              "      <td>True</td>\n",
              "      <td>True</td>\n",
              "      <td>basic</td>\n",
              "      <td>True</td>\n",
              "      <td>5plus</td>\n",
              "    </tr>\n",
              "    <tr>\n",
              "      <th>73114</th>\n",
              "      <td>9164155</td>\n",
              "      <td>NATURAL LT BR CN 24P</td>\n",
              "      <td>1</td>\n",
              "      <td>NATURAL LIGHT</td>\n",
              "      <td>13.49</td>\n",
              "      <td>288.0</td>\n",
              "      <td>0.046840</td>\n",
              "      <td>CAN</td>\n",
              "      <td>False</td>\n",
              "      <td>JACKSONVILLE</td>\n",
              "      <td>...</td>\n",
              "      <td>50+</td>\n",
              "      <td>full</td>\n",
              "      <td>HS</td>\n",
              "      <td>labor/craft/military/farm</td>\n",
              "      <td>white</td>\n",
              "      <td>True</td>\n",
              "      <td>True</td>\n",
              "      <td>none</td>\n",
              "      <td>True</td>\n",
              "      <td>2</td>\n",
              "    </tr>\n",
              "  </tbody>\n",
              "</table>\n",
              "<p>73115 rows × 24 columns</p>\n",
              "</div>\n",
              "    <div class=\"colab-df-buttons\">\n",
              "\n",
              "  <div class=\"colab-df-container\">\n",
              "    <button class=\"colab-df-convert\" onclick=\"convertToInteractive('df-23f32203-952c-434f-b686-b43d286bbe4c')\"\n",
              "            title=\"Convert this dataframe to an interactive table.\"\n",
              "            style=\"display:none;\">\n",
              "\n",
              "  <svg xmlns=\"http://www.w3.org/2000/svg\" height=\"24px\" viewBox=\"0 -960 960 960\">\n",
              "    <path d=\"M120-120v-720h720v720H120Zm60-500h600v-160H180v160Zm220 220h160v-160H400v160Zm0 220h160v-160H400v160ZM180-400h160v-160H180v160Zm440 0h160v-160H620v160ZM180-180h160v-160H180v160Zm440 0h160v-160H620v160Z\"/>\n",
              "  </svg>\n",
              "    </button>\n",
              "\n",
              "  <style>\n",
              "    .colab-df-container {\n",
              "      display:flex;\n",
              "      gap: 12px;\n",
              "    }\n",
              "\n",
              "    .colab-df-convert {\n",
              "      background-color: #E8F0FE;\n",
              "      border: none;\n",
              "      border-radius: 50%;\n",
              "      cursor: pointer;\n",
              "      display: none;\n",
              "      fill: #1967D2;\n",
              "      height: 32px;\n",
              "      padding: 0 0 0 0;\n",
              "      width: 32px;\n",
              "    }\n",
              "\n",
              "    .colab-df-convert:hover {\n",
              "      background-color: #E2EBFA;\n",
              "      box-shadow: 0px 1px 2px rgba(60, 64, 67, 0.3), 0px 1px 3px 1px rgba(60, 64, 67, 0.15);\n",
              "      fill: #174EA6;\n",
              "    }\n",
              "\n",
              "    .colab-df-buttons div {\n",
              "      margin-bottom: 4px;\n",
              "    }\n",
              "\n",
              "    [theme=dark] .colab-df-convert {\n",
              "      background-color: #3B4455;\n",
              "      fill: #D2E3FC;\n",
              "    }\n",
              "\n",
              "    [theme=dark] .colab-df-convert:hover {\n",
              "      background-color: #434B5C;\n",
              "      box-shadow: 0px 1px 3px 1px rgba(0, 0, 0, 0.15);\n",
              "      filter: drop-shadow(0px 1px 2px rgba(0, 0, 0, 0.3));\n",
              "      fill: #FFFFFF;\n",
              "    }\n",
              "  </style>\n",
              "\n",
              "    <script>\n",
              "      const buttonEl =\n",
              "        document.querySelector('#df-23f32203-952c-434f-b686-b43d286bbe4c button.colab-df-convert');\n",
              "      buttonEl.style.display =\n",
              "        google.colab.kernel.accessAllowed ? 'block' : 'none';\n",
              "\n",
              "      async function convertToInteractive(key) {\n",
              "        const element = document.querySelector('#df-23f32203-952c-434f-b686-b43d286bbe4c');\n",
              "        const dataTable =\n",
              "          await google.colab.kernel.invokeFunction('convertToInteractive',\n",
              "                                                    [key], {});\n",
              "        if (!dataTable) return;\n",
              "\n",
              "        const docLinkHtml = 'Like what you see? Visit the ' +\n",
              "          '<a target=\"_blank\" href=https://colab.research.google.com/notebooks/data_table.ipynb>data table notebook</a>'\n",
              "          + ' to learn more about interactive tables.';\n",
              "        element.innerHTML = '';\n",
              "        dataTable['output_type'] = 'display_data';\n",
              "        await google.colab.output.renderOutput(dataTable, element);\n",
              "        const docLink = document.createElement('div');\n",
              "        docLink.innerHTML = docLinkHtml;\n",
              "        element.appendChild(docLink);\n",
              "      }\n",
              "    </script>\n",
              "  </div>\n",
              "\n",
              "\n",
              "<div id=\"df-ff678f33-1985-4e6b-81b7-f4c8aae3b8ad\">\n",
              "  <button class=\"colab-df-quickchart\" onclick=\"quickchart('df-ff678f33-1985-4e6b-81b7-f4c8aae3b8ad')\"\n",
              "            title=\"Suggest charts\"\n",
              "            style=\"display:none;\">\n",
              "\n",
              "<svg xmlns=\"http://www.w3.org/2000/svg\" height=\"24px\"viewBox=\"0 0 24 24\"\n",
              "     width=\"24px\">\n",
              "    <g>\n",
              "        <path d=\"M19 3H5c-1.1 0-2 .9-2 2v14c0 1.1.9 2 2 2h14c1.1 0 2-.9 2-2V5c0-1.1-.9-2-2-2zM9 17H7v-7h2v7zm4 0h-2V7h2v10zm4 0h-2v-4h2v4z\"/>\n",
              "    </g>\n",
              "</svg>\n",
              "  </button>\n",
              "\n",
              "<style>\n",
              "  .colab-df-quickchart {\n",
              "      --bg-color: #E8F0FE;\n",
              "      --fill-color: #1967D2;\n",
              "      --hover-bg-color: #E2EBFA;\n",
              "      --hover-fill-color: #174EA6;\n",
              "      --disabled-fill-color: #AAA;\n",
              "      --disabled-bg-color: #DDD;\n",
              "  }\n",
              "\n",
              "  [theme=dark] .colab-df-quickchart {\n",
              "      --bg-color: #3B4455;\n",
              "      --fill-color: #D2E3FC;\n",
              "      --hover-bg-color: #434B5C;\n",
              "      --hover-fill-color: #FFFFFF;\n",
              "      --disabled-bg-color: #3B4455;\n",
              "      --disabled-fill-color: #666;\n",
              "  }\n",
              "\n",
              "  .colab-df-quickchart {\n",
              "    background-color: var(--bg-color);\n",
              "    border: none;\n",
              "    border-radius: 50%;\n",
              "    cursor: pointer;\n",
              "    display: none;\n",
              "    fill: var(--fill-color);\n",
              "    height: 32px;\n",
              "    padding: 0;\n",
              "    width: 32px;\n",
              "  }\n",
              "\n",
              "  .colab-df-quickchart:hover {\n",
              "    background-color: var(--hover-bg-color);\n",
              "    box-shadow: 0 1px 2px rgba(60, 64, 67, 0.3), 0 1px 3px 1px rgba(60, 64, 67, 0.15);\n",
              "    fill: var(--button-hover-fill-color);\n",
              "  }\n",
              "\n",
              "  .colab-df-quickchart-complete:disabled,\n",
              "  .colab-df-quickchart-complete:disabled:hover {\n",
              "    background-color: var(--disabled-bg-color);\n",
              "    fill: var(--disabled-fill-color);\n",
              "    box-shadow: none;\n",
              "  }\n",
              "\n",
              "  .colab-df-spinner {\n",
              "    border: 2px solid var(--fill-color);\n",
              "    border-color: transparent;\n",
              "    border-bottom-color: var(--fill-color);\n",
              "    animation:\n",
              "      spin 1s steps(1) infinite;\n",
              "  }\n",
              "\n",
              "  @keyframes spin {\n",
              "    0% {\n",
              "      border-color: transparent;\n",
              "      border-bottom-color: var(--fill-color);\n",
              "      border-left-color: var(--fill-color);\n",
              "    }\n",
              "    20% {\n",
              "      border-color: transparent;\n",
              "      border-left-color: var(--fill-color);\n",
              "      border-top-color: var(--fill-color);\n",
              "    }\n",
              "    30% {\n",
              "      border-color: transparent;\n",
              "      border-left-color: var(--fill-color);\n",
              "      border-top-color: var(--fill-color);\n",
              "      border-right-color: var(--fill-color);\n",
              "    }\n",
              "    40% {\n",
              "      border-color: transparent;\n",
              "      border-right-color: var(--fill-color);\n",
              "      border-top-color: var(--fill-color);\n",
              "    }\n",
              "    60% {\n",
              "      border-color: transparent;\n",
              "      border-right-color: var(--fill-color);\n",
              "    }\n",
              "    80% {\n",
              "      border-color: transparent;\n",
              "      border-right-color: var(--fill-color);\n",
              "      border-bottom-color: var(--fill-color);\n",
              "    }\n",
              "    90% {\n",
              "      border-color: transparent;\n",
              "      border-bottom-color: var(--fill-color);\n",
              "    }\n",
              "  }\n",
              "</style>\n",
              "\n",
              "  <script>\n",
              "    async function quickchart(key) {\n",
              "      const quickchartButtonEl =\n",
              "        document.querySelector('#' + key + ' button');\n",
              "      quickchartButtonEl.disabled = true;  // To prevent multiple clicks.\n",
              "      quickchartButtonEl.classList.add('colab-df-spinner');\n",
              "      try {\n",
              "        const charts = await google.colab.kernel.invokeFunction(\n",
              "            'suggestCharts', [key], {});\n",
              "      } catch (error) {\n",
              "        console.error('Error during call to suggestCharts:', error);\n",
              "      }\n",
              "      quickchartButtonEl.classList.remove('colab-df-spinner');\n",
              "      quickchartButtonEl.classList.add('colab-df-quickchart-complete');\n",
              "    }\n",
              "    (() => {\n",
              "      let quickchartButtonEl =\n",
              "        document.querySelector('#df-ff678f33-1985-4e6b-81b7-f4c8aae3b8ad button');\n",
              "      quickchartButtonEl.style.display =\n",
              "        google.colab.kernel.accessAllowed ? 'block' : 'none';\n",
              "    })();\n",
              "  </script>\n",
              "</div>\n",
              "\n",
              "  <div id=\"id_0cfcc523-f98c-405c-901f-8ed4914c046e\">\n",
              "    <style>\n",
              "      .colab-df-generate {\n",
              "        background-color: #E8F0FE;\n",
              "        border: none;\n",
              "        border-radius: 50%;\n",
              "        cursor: pointer;\n",
              "        display: none;\n",
              "        fill: #1967D2;\n",
              "        height: 32px;\n",
              "        padding: 0 0 0 0;\n",
              "        width: 32px;\n",
              "      }\n",
              "\n",
              "      .colab-df-generate:hover {\n",
              "        background-color: #E2EBFA;\n",
              "        box-shadow: 0px 1px 2px rgba(60, 64, 67, 0.3), 0px 1px 3px 1px rgba(60, 64, 67, 0.15);\n",
              "        fill: #174EA6;\n",
              "      }\n",
              "\n",
              "      [theme=dark] .colab-df-generate {\n",
              "        background-color: #3B4455;\n",
              "        fill: #D2E3FC;\n",
              "      }\n",
              "\n",
              "      [theme=dark] .colab-df-generate:hover {\n",
              "        background-color: #434B5C;\n",
              "        box-shadow: 0px 1px 3px 1px rgba(0, 0, 0, 0.15);\n",
              "        filter: drop-shadow(0px 1px 2px rgba(0, 0, 0, 0.3));\n",
              "        fill: #FFFFFF;\n",
              "      }\n",
              "    </style>\n",
              "    <button class=\"colab-df-generate\" onclick=\"generateWithVariable('beer')\"\n",
              "            title=\"Generate code using this dataframe.\"\n",
              "            style=\"display:none;\">\n",
              "\n",
              "  <svg xmlns=\"http://www.w3.org/2000/svg\" height=\"24px\"viewBox=\"0 0 24 24\"\n",
              "       width=\"24px\">\n",
              "    <path d=\"M7,19H8.4L18.45,9,17,7.55,7,17.6ZM5,21V16.75L18.45,3.32a2,2,0,0,1,2.83,0l1.4,1.43a1.91,1.91,0,0,1,.58,1.4,1.91,1.91,0,0,1-.58,1.4L9.25,21ZM18.45,9,17,7.55Zm-12,3A5.31,5.31,0,0,0,4.9,8.1,5.31,5.31,0,0,0,1,6.5,5.31,5.31,0,0,0,4.9,4.9,5.31,5.31,0,0,0,6.5,1,5.31,5.31,0,0,0,8.1,4.9,5.31,5.31,0,0,0,12,6.5,5.46,5.46,0,0,0,6.5,12Z\"/>\n",
              "  </svg>\n",
              "    </button>\n",
              "    <script>\n",
              "      (() => {\n",
              "      const buttonEl =\n",
              "        document.querySelector('#id_0cfcc523-f98c-405c-901f-8ed4914c046e button.colab-df-generate');\n",
              "      buttonEl.style.display =\n",
              "        google.colab.kernel.accessAllowed ? 'block' : 'none';\n",
              "\n",
              "      buttonEl.onclick = () => {\n",
              "        google.colab.notebook.generateWithVariable('beer');\n",
              "      }\n",
              "      })();\n",
              "    </script>\n",
              "  </div>\n",
              "\n",
              "    </div>\n",
              "  </div>\n"
            ]
          },
          "metadata": {},
          "execution_count": 121
        }
      ]
    },
    {
      "cell_type": "code",
      "source": [
        "type(beer)"
      ],
      "metadata": {
        "colab": {
          "base_uri": "https://localhost:8080/"
        },
        "id": "-Wsmk00GbbM2",
        "outputId": "a06641d2-e181-4691-b8a6-fa0ba08fff94"
      },
      "execution_count": 122,
      "outputs": [
        {
          "output_type": "execute_result",
          "data": {
            "text/plain": [
              "pandas.core.frame.DataFrame"
            ]
          },
          "metadata": {},
          "execution_count": 122
        }
      ]
    },
    {
      "cell_type": "code",
      "source": [
        "import pandas as pd"
      ],
      "metadata": {
        "id": "ZDEiW1Z6bj3y"
      },
      "execution_count": 123,
      "outputs": []
    },
    {
      "cell_type": "code",
      "source": [
        "beer = pd.read_csv(\"http://bcdanl.github.io/data/beer_markets.csv\")\n",
        "beer"
      ],
      "metadata": {
        "colab": {
          "base_uri": "https://localhost:8080/",
          "height": 609
        },
        "id": "afiHMsSMbjeH",
        "outputId": "eb692ba1-c616-4d82-a88e-8fef51724186"
      },
      "execution_count": 124,
      "outputs": [
        {
          "output_type": "execute_result",
          "data": {
            "text/plain": [
              "            hh        _purchase_desc  quantity          brand  dollar_spent  \\\n",
              "0      2000946      BUD LT BR CN 12P         1      BUD LIGHT          8.14   \n",
              "1      2003036      BUD LT BR CN 24P         1      BUD LIGHT         17.48   \n",
              "2      2003036      BUD LT BR CN 24P         2      BUD LIGHT         33.92   \n",
              "3      2003036      BUD LT BR CN 30P         2      BUD LIGHT         34.74   \n",
              "4      2003036      BUD LT BR CN 36P         2      BUD LIGHT         40.48   \n",
              "...        ...                   ...       ...            ...           ...   \n",
              "73110  9158319  NATURAL LT BR CN 24P         1  NATURAL LIGHT         11.49   \n",
              "73111  9158319  NATURAL LT BR CN 24P         1  NATURAL LIGHT          9.97   \n",
              "73112  9158319  NATURAL LT BR CN 24P         1  NATURAL LIGHT          9.98   \n",
              "73113  9164033  NATURAL LT BR CN 30P         1  NATURAL LIGHT         12.98   \n",
              "73114  9164155  NATURAL LT BR CN 24P         1  NATURAL LIGHT         13.49   \n",
              "\n",
              "       beer_floz  price_per_floz container  promo          market  ...  age  \\\n",
              "0          144.0        0.056528       CAN  False  RURAL ILLINOIS  ...  50+   \n",
              "1          288.0        0.060694       CAN  False         ATLANTA  ...  50+   \n",
              "2          576.0        0.058889       CAN  False         ATLANTA  ...  50+   \n",
              "3          720.0        0.048250       CAN  False         ATLANTA  ...  50+   \n",
              "4          864.0        0.046852       CAN  False         ATLANTA  ...  50+   \n",
              "...          ...             ...       ...    ...             ...  ...  ...   \n",
              "73110      288.0        0.039896       CAN   True  RURAL VIRGINIA  ...  50+   \n",
              "73111      288.0        0.034618       CAN  False  RURAL VIRGINIA  ...  50+   \n",
              "73112      288.0        0.034653       CAN  False  RURAL VIRGINIA  ...  50+   \n",
              "73113      360.0        0.036056       CAN  False      SACRAMENTO  ...  50+   \n",
              "73114      288.0        0.046840       CAN  False    JACKSONVILLE  ...  50+   \n",
              "\n",
              "      employment   degree                        cow      race microwave  \\\n",
              "0           none     Grad       none/retired/student     white      True   \n",
              "1           full  College     clerical/sales/service     white      True   \n",
              "2           full  College     clerical/sales/service     white      True   \n",
              "3           full  College     clerical/sales/service     white      True   \n",
              "4           full  College     clerical/sales/service     white      True   \n",
              "...          ...      ...                        ...       ...       ...   \n",
              "73110       none       HS       none/retired/student     black      True   \n",
              "73111       none       HS       none/retired/student     black      True   \n",
              "73112       none       HS       none/retired/student     black      True   \n",
              "73113       full  College                       prof  hispanic      True   \n",
              "73114       full       HS  labor/craft/military/farm     white      True   \n",
              "\n",
              "      dishwasher  tvcable singlefamilyhome  npeople  \n",
              "0           True  premium            False        1  \n",
              "1           True    basic             True        2  \n",
              "2           True    basic             True        2  \n",
              "3           True    basic             True        2  \n",
              "4           True    basic             True        2  \n",
              "...          ...      ...              ...      ...  \n",
              "73110       True  premium             True        2  \n",
              "73111       True  premium             True        2  \n",
              "73112       True  premium             True        2  \n",
              "73113       True    basic             True    5plus  \n",
              "73114       True     none             True        2  \n",
              "\n",
              "[73115 rows x 24 columns]"
            ],
            "text/html": [
              "\n",
              "  <div id=\"df-533ea2af-90b1-49f2-88ce-d77041be9245\" class=\"colab-df-container\">\n",
              "    <div>\n",
              "<style scoped>\n",
              "    .dataframe tbody tr th:only-of-type {\n",
              "        vertical-align: middle;\n",
              "    }\n",
              "\n",
              "    .dataframe tbody tr th {\n",
              "        vertical-align: top;\n",
              "    }\n",
              "\n",
              "    .dataframe thead th {\n",
              "        text-align: right;\n",
              "    }\n",
              "</style>\n",
              "<table border=\"1\" class=\"dataframe\">\n",
              "  <thead>\n",
              "    <tr style=\"text-align: right;\">\n",
              "      <th></th>\n",
              "      <th>hh</th>\n",
              "      <th>_purchase_desc</th>\n",
              "      <th>quantity</th>\n",
              "      <th>brand</th>\n",
              "      <th>dollar_spent</th>\n",
              "      <th>beer_floz</th>\n",
              "      <th>price_per_floz</th>\n",
              "      <th>container</th>\n",
              "      <th>promo</th>\n",
              "      <th>market</th>\n",
              "      <th>...</th>\n",
              "      <th>age</th>\n",
              "      <th>employment</th>\n",
              "      <th>degree</th>\n",
              "      <th>cow</th>\n",
              "      <th>race</th>\n",
              "      <th>microwave</th>\n",
              "      <th>dishwasher</th>\n",
              "      <th>tvcable</th>\n",
              "      <th>singlefamilyhome</th>\n",
              "      <th>npeople</th>\n",
              "    </tr>\n",
              "  </thead>\n",
              "  <tbody>\n",
              "    <tr>\n",
              "      <th>0</th>\n",
              "      <td>2000946</td>\n",
              "      <td>BUD LT BR CN 12P</td>\n",
              "      <td>1</td>\n",
              "      <td>BUD LIGHT</td>\n",
              "      <td>8.14</td>\n",
              "      <td>144.0</td>\n",
              "      <td>0.056528</td>\n",
              "      <td>CAN</td>\n",
              "      <td>False</td>\n",
              "      <td>RURAL ILLINOIS</td>\n",
              "      <td>...</td>\n",
              "      <td>50+</td>\n",
              "      <td>none</td>\n",
              "      <td>Grad</td>\n",
              "      <td>none/retired/student</td>\n",
              "      <td>white</td>\n",
              "      <td>True</td>\n",
              "      <td>True</td>\n",
              "      <td>premium</td>\n",
              "      <td>False</td>\n",
              "      <td>1</td>\n",
              "    </tr>\n",
              "    <tr>\n",
              "      <th>1</th>\n",
              "      <td>2003036</td>\n",
              "      <td>BUD LT BR CN 24P</td>\n",
              "      <td>1</td>\n",
              "      <td>BUD LIGHT</td>\n",
              "      <td>17.48</td>\n",
              "      <td>288.0</td>\n",
              "      <td>0.060694</td>\n",
              "      <td>CAN</td>\n",
              "      <td>False</td>\n",
              "      <td>ATLANTA</td>\n",
              "      <td>...</td>\n",
              "      <td>50+</td>\n",
              "      <td>full</td>\n",
              "      <td>College</td>\n",
              "      <td>clerical/sales/service</td>\n",
              "      <td>white</td>\n",
              "      <td>True</td>\n",
              "      <td>True</td>\n",
              "      <td>basic</td>\n",
              "      <td>True</td>\n",
              "      <td>2</td>\n",
              "    </tr>\n",
              "    <tr>\n",
              "      <th>2</th>\n",
              "      <td>2003036</td>\n",
              "      <td>BUD LT BR CN 24P</td>\n",
              "      <td>2</td>\n",
              "      <td>BUD LIGHT</td>\n",
              "      <td>33.92</td>\n",
              "      <td>576.0</td>\n",
              "      <td>0.058889</td>\n",
              "      <td>CAN</td>\n",
              "      <td>False</td>\n",
              "      <td>ATLANTA</td>\n",
              "      <td>...</td>\n",
              "      <td>50+</td>\n",
              "      <td>full</td>\n",
              "      <td>College</td>\n",
              "      <td>clerical/sales/service</td>\n",
              "      <td>white</td>\n",
              "      <td>True</td>\n",
              "      <td>True</td>\n",
              "      <td>basic</td>\n",
              "      <td>True</td>\n",
              "      <td>2</td>\n",
              "    </tr>\n",
              "    <tr>\n",
              "      <th>3</th>\n",
              "      <td>2003036</td>\n",
              "      <td>BUD LT BR CN 30P</td>\n",
              "      <td>2</td>\n",
              "      <td>BUD LIGHT</td>\n",
              "      <td>34.74</td>\n",
              "      <td>720.0</td>\n",
              "      <td>0.048250</td>\n",
              "      <td>CAN</td>\n",
              "      <td>False</td>\n",
              "      <td>ATLANTA</td>\n",
              "      <td>...</td>\n",
              "      <td>50+</td>\n",
              "      <td>full</td>\n",
              "      <td>College</td>\n",
              "      <td>clerical/sales/service</td>\n",
              "      <td>white</td>\n",
              "      <td>True</td>\n",
              "      <td>True</td>\n",
              "      <td>basic</td>\n",
              "      <td>True</td>\n",
              "      <td>2</td>\n",
              "    </tr>\n",
              "    <tr>\n",
              "      <th>4</th>\n",
              "      <td>2003036</td>\n",
              "      <td>BUD LT BR CN 36P</td>\n",
              "      <td>2</td>\n",
              "      <td>BUD LIGHT</td>\n",
              "      <td>40.48</td>\n",
              "      <td>864.0</td>\n",
              "      <td>0.046852</td>\n",
              "      <td>CAN</td>\n",
              "      <td>False</td>\n",
              "      <td>ATLANTA</td>\n",
              "      <td>...</td>\n",
              "      <td>50+</td>\n",
              "      <td>full</td>\n",
              "      <td>College</td>\n",
              "      <td>clerical/sales/service</td>\n",
              "      <td>white</td>\n",
              "      <td>True</td>\n",
              "      <td>True</td>\n",
              "      <td>basic</td>\n",
              "      <td>True</td>\n",
              "      <td>2</td>\n",
              "    </tr>\n",
              "    <tr>\n",
              "      <th>...</th>\n",
              "      <td>...</td>\n",
              "      <td>...</td>\n",
              "      <td>...</td>\n",
              "      <td>...</td>\n",
              "      <td>...</td>\n",
              "      <td>...</td>\n",
              "      <td>...</td>\n",
              "      <td>...</td>\n",
              "      <td>...</td>\n",
              "      <td>...</td>\n",
              "      <td>...</td>\n",
              "      <td>...</td>\n",
              "      <td>...</td>\n",
              "      <td>...</td>\n",
              "      <td>...</td>\n",
              "      <td>...</td>\n",
              "      <td>...</td>\n",
              "      <td>...</td>\n",
              "      <td>...</td>\n",
              "      <td>...</td>\n",
              "      <td>...</td>\n",
              "    </tr>\n",
              "    <tr>\n",
              "      <th>73110</th>\n",
              "      <td>9158319</td>\n",
              "      <td>NATURAL LT BR CN 24P</td>\n",
              "      <td>1</td>\n",
              "      <td>NATURAL LIGHT</td>\n",
              "      <td>11.49</td>\n",
              "      <td>288.0</td>\n",
              "      <td>0.039896</td>\n",
              "      <td>CAN</td>\n",
              "      <td>True</td>\n",
              "      <td>RURAL VIRGINIA</td>\n",
              "      <td>...</td>\n",
              "      <td>50+</td>\n",
              "      <td>none</td>\n",
              "      <td>HS</td>\n",
              "      <td>none/retired/student</td>\n",
              "      <td>black</td>\n",
              "      <td>True</td>\n",
              "      <td>True</td>\n",
              "      <td>premium</td>\n",
              "      <td>True</td>\n",
              "      <td>2</td>\n",
              "    </tr>\n",
              "    <tr>\n",
              "      <th>73111</th>\n",
              "      <td>9158319</td>\n",
              "      <td>NATURAL LT BR CN 24P</td>\n",
              "      <td>1</td>\n",
              "      <td>NATURAL LIGHT</td>\n",
              "      <td>9.97</td>\n",
              "      <td>288.0</td>\n",
              "      <td>0.034618</td>\n",
              "      <td>CAN</td>\n",
              "      <td>False</td>\n",
              "      <td>RURAL VIRGINIA</td>\n",
              "      <td>...</td>\n",
              "      <td>50+</td>\n",
              "      <td>none</td>\n",
              "      <td>HS</td>\n",
              "      <td>none/retired/student</td>\n",
              "      <td>black</td>\n",
              "      <td>True</td>\n",
              "      <td>True</td>\n",
              "      <td>premium</td>\n",
              "      <td>True</td>\n",
              "      <td>2</td>\n",
              "    </tr>\n",
              "    <tr>\n",
              "      <th>73112</th>\n",
              "      <td>9158319</td>\n",
              "      <td>NATURAL LT BR CN 24P</td>\n",
              "      <td>1</td>\n",
              "      <td>NATURAL LIGHT</td>\n",
              "      <td>9.98</td>\n",
              "      <td>288.0</td>\n",
              "      <td>0.034653</td>\n",
              "      <td>CAN</td>\n",
              "      <td>False</td>\n",
              "      <td>RURAL VIRGINIA</td>\n",
              "      <td>...</td>\n",
              "      <td>50+</td>\n",
              "      <td>none</td>\n",
              "      <td>HS</td>\n",
              "      <td>none/retired/student</td>\n",
              "      <td>black</td>\n",
              "      <td>True</td>\n",
              "      <td>True</td>\n",
              "      <td>premium</td>\n",
              "      <td>True</td>\n",
              "      <td>2</td>\n",
              "    </tr>\n",
              "    <tr>\n",
              "      <th>73113</th>\n",
              "      <td>9164033</td>\n",
              "      <td>NATURAL LT BR CN 30P</td>\n",
              "      <td>1</td>\n",
              "      <td>NATURAL LIGHT</td>\n",
              "      <td>12.98</td>\n",
              "      <td>360.0</td>\n",
              "      <td>0.036056</td>\n",
              "      <td>CAN</td>\n",
              "      <td>False</td>\n",
              "      <td>SACRAMENTO</td>\n",
              "      <td>...</td>\n",
              "      <td>50+</td>\n",
              "      <td>full</td>\n",
              "      <td>College</td>\n",
              "      <td>prof</td>\n",
              "      <td>hispanic</td>\n",
              "      <td>True</td>\n",
              "      <td>True</td>\n",
              "      <td>basic</td>\n",
              "      <td>True</td>\n",
              "      <td>5plus</td>\n",
              "    </tr>\n",
              "    <tr>\n",
              "      <th>73114</th>\n",
              "      <td>9164155</td>\n",
              "      <td>NATURAL LT BR CN 24P</td>\n",
              "      <td>1</td>\n",
              "      <td>NATURAL LIGHT</td>\n",
              "      <td>13.49</td>\n",
              "      <td>288.0</td>\n",
              "      <td>0.046840</td>\n",
              "      <td>CAN</td>\n",
              "      <td>False</td>\n",
              "      <td>JACKSONVILLE</td>\n",
              "      <td>...</td>\n",
              "      <td>50+</td>\n",
              "      <td>full</td>\n",
              "      <td>HS</td>\n",
              "      <td>labor/craft/military/farm</td>\n",
              "      <td>white</td>\n",
              "      <td>True</td>\n",
              "      <td>True</td>\n",
              "      <td>none</td>\n",
              "      <td>True</td>\n",
              "      <td>2</td>\n",
              "    </tr>\n",
              "  </tbody>\n",
              "</table>\n",
              "<p>73115 rows × 24 columns</p>\n",
              "</div>\n",
              "    <div class=\"colab-df-buttons\">\n",
              "\n",
              "  <div class=\"colab-df-container\">\n",
              "    <button class=\"colab-df-convert\" onclick=\"convertToInteractive('df-533ea2af-90b1-49f2-88ce-d77041be9245')\"\n",
              "            title=\"Convert this dataframe to an interactive table.\"\n",
              "            style=\"display:none;\">\n",
              "\n",
              "  <svg xmlns=\"http://www.w3.org/2000/svg\" height=\"24px\" viewBox=\"0 -960 960 960\">\n",
              "    <path d=\"M120-120v-720h720v720H120Zm60-500h600v-160H180v160Zm220 220h160v-160H400v160Zm0 220h160v-160H400v160ZM180-400h160v-160H180v160Zm440 0h160v-160H620v160ZM180-180h160v-160H180v160Zm440 0h160v-160H620v160Z\"/>\n",
              "  </svg>\n",
              "    </button>\n",
              "\n",
              "  <style>\n",
              "    .colab-df-container {\n",
              "      display:flex;\n",
              "      gap: 12px;\n",
              "    }\n",
              "\n",
              "    .colab-df-convert {\n",
              "      background-color: #E8F0FE;\n",
              "      border: none;\n",
              "      border-radius: 50%;\n",
              "      cursor: pointer;\n",
              "      display: none;\n",
              "      fill: #1967D2;\n",
              "      height: 32px;\n",
              "      padding: 0 0 0 0;\n",
              "      width: 32px;\n",
              "    }\n",
              "\n",
              "    .colab-df-convert:hover {\n",
              "      background-color: #E2EBFA;\n",
              "      box-shadow: 0px 1px 2px rgba(60, 64, 67, 0.3), 0px 1px 3px 1px rgba(60, 64, 67, 0.15);\n",
              "      fill: #174EA6;\n",
              "    }\n",
              "\n",
              "    .colab-df-buttons div {\n",
              "      margin-bottom: 4px;\n",
              "    }\n",
              "\n",
              "    [theme=dark] .colab-df-convert {\n",
              "      background-color: #3B4455;\n",
              "      fill: #D2E3FC;\n",
              "    }\n",
              "\n",
              "    [theme=dark] .colab-df-convert:hover {\n",
              "      background-color: #434B5C;\n",
              "      box-shadow: 0px 1px 3px 1px rgba(0, 0, 0, 0.15);\n",
              "      filter: drop-shadow(0px 1px 2px rgba(0, 0, 0, 0.3));\n",
              "      fill: #FFFFFF;\n",
              "    }\n",
              "  </style>\n",
              "\n",
              "    <script>\n",
              "      const buttonEl =\n",
              "        document.querySelector('#df-533ea2af-90b1-49f2-88ce-d77041be9245 button.colab-df-convert');\n",
              "      buttonEl.style.display =\n",
              "        google.colab.kernel.accessAllowed ? 'block' : 'none';\n",
              "\n",
              "      async function convertToInteractive(key) {\n",
              "        const element = document.querySelector('#df-533ea2af-90b1-49f2-88ce-d77041be9245');\n",
              "        const dataTable =\n",
              "          await google.colab.kernel.invokeFunction('convertToInteractive',\n",
              "                                                    [key], {});\n",
              "        if (!dataTable) return;\n",
              "\n",
              "        const docLinkHtml = 'Like what you see? Visit the ' +\n",
              "          '<a target=\"_blank\" href=https://colab.research.google.com/notebooks/data_table.ipynb>data table notebook</a>'\n",
              "          + ' to learn more about interactive tables.';\n",
              "        element.innerHTML = '';\n",
              "        dataTable['output_type'] = 'display_data';\n",
              "        await google.colab.output.renderOutput(dataTable, element);\n",
              "        const docLink = document.createElement('div');\n",
              "        docLink.innerHTML = docLinkHtml;\n",
              "        element.appendChild(docLink);\n",
              "      }\n",
              "    </script>\n",
              "  </div>\n",
              "\n",
              "\n",
              "<div id=\"df-d924b66e-9ae0-4816-abd9-6231790907d1\">\n",
              "  <button class=\"colab-df-quickchart\" onclick=\"quickchart('df-d924b66e-9ae0-4816-abd9-6231790907d1')\"\n",
              "            title=\"Suggest charts\"\n",
              "            style=\"display:none;\">\n",
              "\n",
              "<svg xmlns=\"http://www.w3.org/2000/svg\" height=\"24px\"viewBox=\"0 0 24 24\"\n",
              "     width=\"24px\">\n",
              "    <g>\n",
              "        <path d=\"M19 3H5c-1.1 0-2 .9-2 2v14c0 1.1.9 2 2 2h14c1.1 0 2-.9 2-2V5c0-1.1-.9-2-2-2zM9 17H7v-7h2v7zm4 0h-2V7h2v10zm4 0h-2v-4h2v4z\"/>\n",
              "    </g>\n",
              "</svg>\n",
              "  </button>\n",
              "\n",
              "<style>\n",
              "  .colab-df-quickchart {\n",
              "      --bg-color: #E8F0FE;\n",
              "      --fill-color: #1967D2;\n",
              "      --hover-bg-color: #E2EBFA;\n",
              "      --hover-fill-color: #174EA6;\n",
              "      --disabled-fill-color: #AAA;\n",
              "      --disabled-bg-color: #DDD;\n",
              "  }\n",
              "\n",
              "  [theme=dark] .colab-df-quickchart {\n",
              "      --bg-color: #3B4455;\n",
              "      --fill-color: #D2E3FC;\n",
              "      --hover-bg-color: #434B5C;\n",
              "      --hover-fill-color: #FFFFFF;\n",
              "      --disabled-bg-color: #3B4455;\n",
              "      --disabled-fill-color: #666;\n",
              "  }\n",
              "\n",
              "  .colab-df-quickchart {\n",
              "    background-color: var(--bg-color);\n",
              "    border: none;\n",
              "    border-radius: 50%;\n",
              "    cursor: pointer;\n",
              "    display: none;\n",
              "    fill: var(--fill-color);\n",
              "    height: 32px;\n",
              "    padding: 0;\n",
              "    width: 32px;\n",
              "  }\n",
              "\n",
              "  .colab-df-quickchart:hover {\n",
              "    background-color: var(--hover-bg-color);\n",
              "    box-shadow: 0 1px 2px rgba(60, 64, 67, 0.3), 0 1px 3px 1px rgba(60, 64, 67, 0.15);\n",
              "    fill: var(--button-hover-fill-color);\n",
              "  }\n",
              "\n",
              "  .colab-df-quickchart-complete:disabled,\n",
              "  .colab-df-quickchart-complete:disabled:hover {\n",
              "    background-color: var(--disabled-bg-color);\n",
              "    fill: var(--disabled-fill-color);\n",
              "    box-shadow: none;\n",
              "  }\n",
              "\n",
              "  .colab-df-spinner {\n",
              "    border: 2px solid var(--fill-color);\n",
              "    border-color: transparent;\n",
              "    border-bottom-color: var(--fill-color);\n",
              "    animation:\n",
              "      spin 1s steps(1) infinite;\n",
              "  }\n",
              "\n",
              "  @keyframes spin {\n",
              "    0% {\n",
              "      border-color: transparent;\n",
              "      border-bottom-color: var(--fill-color);\n",
              "      border-left-color: var(--fill-color);\n",
              "    }\n",
              "    20% {\n",
              "      border-color: transparent;\n",
              "      border-left-color: var(--fill-color);\n",
              "      border-top-color: var(--fill-color);\n",
              "    }\n",
              "    30% {\n",
              "      border-color: transparent;\n",
              "      border-left-color: var(--fill-color);\n",
              "      border-top-color: var(--fill-color);\n",
              "      border-right-color: var(--fill-color);\n",
              "    }\n",
              "    40% {\n",
              "      border-color: transparent;\n",
              "      border-right-color: var(--fill-color);\n",
              "      border-top-color: var(--fill-color);\n",
              "    }\n",
              "    60% {\n",
              "      border-color: transparent;\n",
              "      border-right-color: var(--fill-color);\n",
              "    }\n",
              "    80% {\n",
              "      border-color: transparent;\n",
              "      border-right-color: var(--fill-color);\n",
              "      border-bottom-color: var(--fill-color);\n",
              "    }\n",
              "    90% {\n",
              "      border-color: transparent;\n",
              "      border-bottom-color: var(--fill-color);\n",
              "    }\n",
              "  }\n",
              "</style>\n",
              "\n",
              "  <script>\n",
              "    async function quickchart(key) {\n",
              "      const quickchartButtonEl =\n",
              "        document.querySelector('#' + key + ' button');\n",
              "      quickchartButtonEl.disabled = true;  // To prevent multiple clicks.\n",
              "      quickchartButtonEl.classList.add('colab-df-spinner');\n",
              "      try {\n",
              "        const charts = await google.colab.kernel.invokeFunction(\n",
              "            'suggestCharts', [key], {});\n",
              "      } catch (error) {\n",
              "        console.error('Error during call to suggestCharts:', error);\n",
              "      }\n",
              "      quickchartButtonEl.classList.remove('colab-df-spinner');\n",
              "      quickchartButtonEl.classList.add('colab-df-quickchart-complete');\n",
              "    }\n",
              "    (() => {\n",
              "      let quickchartButtonEl =\n",
              "        document.querySelector('#df-d924b66e-9ae0-4816-abd9-6231790907d1 button');\n",
              "      quickchartButtonEl.style.display =\n",
              "        google.colab.kernel.accessAllowed ? 'block' : 'none';\n",
              "    })();\n",
              "  </script>\n",
              "</div>\n",
              "\n",
              "  <div id=\"id_7d86c756-a008-4557-8b38-644e2b4291f2\">\n",
              "    <style>\n",
              "      .colab-df-generate {\n",
              "        background-color: #E8F0FE;\n",
              "        border: none;\n",
              "        border-radius: 50%;\n",
              "        cursor: pointer;\n",
              "        display: none;\n",
              "        fill: #1967D2;\n",
              "        height: 32px;\n",
              "        padding: 0 0 0 0;\n",
              "        width: 32px;\n",
              "      }\n",
              "\n",
              "      .colab-df-generate:hover {\n",
              "        background-color: #E2EBFA;\n",
              "        box-shadow: 0px 1px 2px rgba(60, 64, 67, 0.3), 0px 1px 3px 1px rgba(60, 64, 67, 0.15);\n",
              "        fill: #174EA6;\n",
              "      }\n",
              "\n",
              "      [theme=dark] .colab-df-generate {\n",
              "        background-color: #3B4455;\n",
              "        fill: #D2E3FC;\n",
              "      }\n",
              "\n",
              "      [theme=dark] .colab-df-generate:hover {\n",
              "        background-color: #434B5C;\n",
              "        box-shadow: 0px 1px 3px 1px rgba(0, 0, 0, 0.15);\n",
              "        filter: drop-shadow(0px 1px 2px rgba(0, 0, 0, 0.3));\n",
              "        fill: #FFFFFF;\n",
              "      }\n",
              "    </style>\n",
              "    <button class=\"colab-df-generate\" onclick=\"generateWithVariable('beer')\"\n",
              "            title=\"Generate code using this dataframe.\"\n",
              "            style=\"display:none;\">\n",
              "\n",
              "  <svg xmlns=\"http://www.w3.org/2000/svg\" height=\"24px\"viewBox=\"0 0 24 24\"\n",
              "       width=\"24px\">\n",
              "    <path d=\"M7,19H8.4L18.45,9,17,7.55,7,17.6ZM5,21V16.75L18.45,3.32a2,2,0,0,1,2.83,0l1.4,1.43a1.91,1.91,0,0,1,.58,1.4,1.91,1.91,0,0,1-.58,1.4L9.25,21ZM18.45,9,17,7.55Zm-12,3A5.31,5.31,0,0,0,4.9,8.1,5.31,5.31,0,0,0,1,6.5,5.31,5.31,0,0,0,4.9,4.9,5.31,5.31,0,0,0,6.5,1,5.31,5.31,0,0,0,8.1,4.9,5.31,5.31,0,0,0,12,6.5,5.46,5.46,0,0,0,6.5,12Z\"/>\n",
              "  </svg>\n",
              "    </button>\n",
              "    <script>\n",
              "      (() => {\n",
              "      const buttonEl =\n",
              "        document.querySelector('#id_7d86c756-a008-4557-8b38-644e2b4291f2 button.colab-df-generate');\n",
              "      buttonEl.style.display =\n",
              "        google.colab.kernel.accessAllowed ? 'block' : 'none';\n",
              "\n",
              "      buttonEl.onclick = () => {\n",
              "        google.colab.notebook.generateWithVariable('beer');\n",
              "      }\n",
              "      })();\n",
              "    </script>\n",
              "  </div>\n",
              "\n",
              "    </div>\n",
              "  </div>\n"
            ]
          },
          "metadata": {},
          "execution_count": 124
        }
      ]
    },
    {
      "cell_type": "code",
      "source": [],
      "metadata": {
        "id": "18SMXYLnbnXD"
      },
      "execution_count": null,
      "outputs": []
    },
    {
      "cell_type": "markdown",
      "source": [
        "- Data Types\n",
        "  - integer\n",
        "  - string"
      ],
      "metadata": {
        "id": "Oo2oWgn6b19T"
      }
    }
  ]
}